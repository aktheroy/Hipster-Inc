{
 "cells": [
  {
   "cell_type": "markdown",
   "metadata": {},
   "source": [
    "# Imports "
   ]
  },
  {
   "cell_type": "code",
   "execution_count": 1,
   "metadata": {},
   "outputs": [],
   "source": [
    "# Standard library imports\n",
    "from time import time\n",
    "import numpy as np\n",
    "import evaluate\n",
    "\n",
    "# Third-party library imports\n",
    "from datasets import Dataset, DatasetDict, load_dataset\n",
    "from evaluate import load\n",
    "from peft import LoraConfig, PeftModel, get_peft_model\n",
    "from transformers import (\n",
    "    AutoModelForSeq2SeqLM,\n",
    "    DataCollatorForSeq2Seq,\n",
    "    AutoTokenizer,\n",
    "    GenerationConfig,\n",
    "    M2M100Config,\n",
    "    M2M100ForConditionalGeneration,\n",
    "    M2M100Tokenizer,\n",
    "    Seq2SeqTrainingArguments,\n",
    "    Seq2SeqTrainer,\n",
    "    pipeline,\n",
    ")\n",
    "\n",
    "# Local application/library specific imports\n",
    "import torch"
   ]
  },
  {
   "cell_type": "markdown",
   "metadata": {},
   "source": [
    "# 1. Data loading and spliting"
   ]
  },
  {
   "cell_type": "code",
   "execution_count": 2,
   "metadata": {},
   "outputs": [
    {
     "name": "stdout",
     "output_type": "stream",
     "text": [
      "DatasetDict({\n",
      "    train: Dataset({\n",
      "        features: ['English', 'Hindi'],\n",
      "        num_rows: 64\n",
      "    })\n",
      "    validation: Dataset({\n",
      "        features: ['English', 'Hindi'],\n",
      "        num_rows: 8\n",
      "    })\n",
      "    test: Dataset({\n",
      "        features: ['English', 'Hindi'],\n",
      "        num_rows: 8\n",
      "    })\n",
      "})\n"
     ]
    }
   ],
   "source": [
    "percent_data_select = \"train[:80]\" # add percent sign ie. \"train[:20%]\" to select that percent of data \n",
    "# Load only 20% of the dataset\n",
    "dataset = load_dataset(\"csv\", data_files={\"train\": \"../Datasets/processed_data.csv\"}, split=percent_data_select)\n",
    "\n",
    "# Split into train and test sets (e.g., 80% train, 20% test)\n",
    "train_test_split = dataset.train_test_split(test_size=0.2, seed=42)\n",
    "\n",
    "# Further split the test set into validation and test (e.g., 50-50 split of the 20%)\n",
    "validation_test_split = train_test_split[\"test\"].train_test_split(test_size=0.5, seed=42)\n",
    "\n",
    "# Combine splits into a DatasetDict\n",
    "raw_dataset = {\n",
    "    \"train\": train_test_split[\"train\"],\n",
    "    \"validation\": validation_test_split[\"train\"],\n",
    "    \"test\": validation_test_split[\"test\"]\n",
    "}\n",
    "\n",
    "dataset = DatasetDict(raw_dataset)\n",
    "\n",
    "# Inspect the resulting dataset\n",
    "print(dataset)\n"
   ]
  },
  {
   "cell_type": "code",
   "execution_count": 3,
   "metadata": {},
   "outputs": [
    {
     "name": "stdout",
     "output_type": "stream",
     "text": [
      "{'English': 'today, it is not uncommon to find many iraqi villages having their own soccer teams.', 'Hindi': 'आज, कई इराकी गांवों को अपनी फुटबॉल टीमों को ढूंढना असामान्य नहीं है।'}\n",
      "{'English': '120 film can still be found and used today.', 'Hindi': '120 फिल्म अभी भी पाया जा सकता है और आज का उपयोग किया।'}\n",
      "{'English': 'then, a well-fed she-camel will be better than a fortress (castle) sheltering a thousand (people).', 'Hindi': 'फिर, एक अच्छी तरह से खिलाया गया ऊंट एक किले (महल) से हजारों (लोगों) को आश्रय देने से बेहतर होगा।'}\n",
      "{'English': '(onkelos furthur queried) what/how (do you advise) to cleave to them?', 'Hindi': 'बादरायण ने उनको क्या समझा और भाष्यकारों ने उनको क्या समझा है?'}\n"
     ]
    }
   ],
   "source": [
    "print(dataset['train'][0])\n",
    "print(dataset['train'][1])\n",
    "print(dataset['train'][2])\n",
    "print(dataset['train'][3])"
   ]
  },
  {
   "cell_type": "markdown",
   "metadata": {
    "vscode": {
     "languageId": "plaintext"
    }
   },
   "source": [
    "# 2. Facebook / M2M100 418M\n",
    "- M2M-100 stands for Massively Multilingual Model with 100 languages.\n",
    "- 418M refers to the model size in terms of the number of parameters. Parameters are the learnable weights within the model's neural network. A larger number of parameters generally allows the model to learn more complex patterns and achieve higher accuracy."
   ]
  },
  {
   "cell_type": "markdown",
   "metadata": {},
   "source": [
    "## 2.1 Comparing Tokenizers \n",
    "- Our approach will involve a systematic comparison of tokenization strategies, paying close attention to how each method handles linguistic characteristics specific to Hindi and English."
   ]
  },
  {
   "cell_type": "markdown",
   "metadata": {},
   "source": [
    "#### 2.1.1 AutoTokenizer"
   ]
  },
  {
   "cell_type": "code",
   "execution_count": 4,
   "metadata": {},
   "outputs": [],
   "source": [
    "model_ID = \"facebook/m2m100_418M\"  # Replace with your desired model\n",
    "model = AutoModelForSeq2SeqLM.from_pretrained(model_ID)\n",
    "tokenizer = AutoTokenizer.from_pretrained(model_ID, src_lang=\"en\", tgt_lang=\"hi\")\n",
    "# Create a GenerationConfig with the desired parameters"
   ]
  },
  {
   "cell_type": "code",
   "execution_count": 5,
   "metadata": {},
   "outputs": [
    {
     "name": "stdout",
     "output_type": "stream",
     "text": [
      "Original Hindi Input: translate Hindi to English: आधी रात के समय, जब दुनिया सो रही होगी, भारत जीवन और स्वतंत्रता के लिए जाग जाएगा।\n",
      "Input Tokens: ['__en__', '▁trans', 'late', '▁Hindi', '▁to', '▁English', ':', '▁आधी', '▁रात', '▁के', '▁समय', ',', '▁जब', '▁दुनिया', '▁सो', '▁रही', '▁होगी', ',', '▁भारत', '▁जीवन', '▁और', '▁स्वत', 'ंत्र', 'ता', '▁के', '▁लिए', '▁जाग', '▁जाएगा', '।', '</s>']\n",
      "Decoded Input Text: __en__ translate Hindi to English: आधी रात के समय, जब दुनिया सो रही होगी, भारत जीवन और स्वतंत्रता के लिए जाग जाएगा।</s>\n",
      "\n",
      "Original English Target: at the stroke of the midnight hour, when the world sleeps, india will awake to life and freedom.\n",
      "Target Tokens: ['__hi__', '▁at', '▁the', '▁stro', 'ke', '▁of', '▁the', '▁mid', 'night', '▁hour', ',', '▁when', '▁the', '▁world', '▁sleep', 's', ',', '▁india', '▁will', '▁aw', 'ake', '▁to', '▁life', '▁and', '▁fre', 'edom', '.', '</s>']\n",
      "Decoded Target Text: __hi__ at the stroke of the midnight hour, when the world sleeps, india will awake to life and freedom.</s>\n"
     ]
    },
    {
     "name": "stderr",
     "output_type": "stream",
     "text": [
      "c:\\Users\\akthe\\miniconda3\\envs\\WPanda\\Lib\\site-packages\\transformers\\tokenization_utils_base.py:3957: UserWarning: `as_target_tokenizer` is deprecated and will be removed in v5 of Transformers. You can tokenize your labels by using the argument `text_target` of the regular `__call__` method (either in the same call as your input texts if you use the same keyword arguments, or in a separate call.\n",
      "  warnings.warn(\n"
     ]
    }
   ],
   "source": [
    "# Sample data from the dataset\n",
    "sample = dataset[\"train\"][12]  # Replace with an actual sample index\n",
    "input_text = \"translate Hindi to English: \" + sample[\"Hindi\"]\n",
    "target_text = sample[\"English\"]\n",
    "\n",
    "# Tokenize inputs and targets\n",
    "inputs = tokenizer(input_text, return_tensors=\"pt\", padding=True, truncation=True)\n",
    "with tokenizer.as_target_tokenizer():\n",
    "    targets = tokenizer(target_text, return_tensors=\"pt\", padding=True, truncation=True)\n",
    "\n",
    "# Convert token IDs back to tokens\n",
    "input_tokens = tokenizer.convert_ids_to_tokens(inputs[\"input_ids\"][0])\n",
    "target_tokens = tokenizer.convert_ids_to_tokens(targets[\"input_ids\"][0])\n",
    "\n",
    "# Print the results for inspection\n",
    "print(\"Original Hindi Input:\", input_text)\n",
    "print(\"Input Tokens:\", input_tokens)\n",
    "print(\"Decoded Input Text:\", tokenizer.decode(inputs[\"input_ids\"][0], skip_special_tokens=False))\n",
    "print(\"\\nOriginal English Target:\", target_text)\n",
    "print(\"Target Tokens:\", target_tokens)\n",
    "print(\"Decoded Target Text:\", tokenizer.decode(targets[\"input_ids\"][0], skip_special_tokens=False))"
   ]
  },
  {
   "cell_type": "markdown",
   "metadata": {},
   "source": [
    " **Why are \"__hi__\" and \"__en__\" appearing before the English and Hindi sentences, respectively?**\n",
    "\n",
    "These special tokens, \"__hi__\" and \"__en__\", are often used in machine translation tasks to explicitly indicate the **source language** and **target language**. They serve as markers for the model to understand which language it's currently processing.\n",
    "\n",
    "##### Here's a breakdown of their functions:\n",
    "\n",
    "* **__hi__ and __en__: Language Identifiers:**\n",
    "   - **__hi__**: This token typically represents the Hindi language. When placed at the beginning of a sentence, it tells the model that the following text is in Hindi and should be translated into the target language (in this case, English).\n",
    "   - **__en__**: Similarly, \"__en__\" indicates that the following text is in English. It might be used in scenarios where the model is asked to translate from English to Hindi or for tasks like language identification.\n",
    "\n",
    "##### Why are they added?\n",
    "\n",
    "* **Clarity for the Model:** These markers provide clear and explicit information to the model about the language of the input and output sequences. This helps the model to better understand the context and improve the accuracy of its translations.\n",
    "* **Handling Multiple Language Pairs:** In multilingual models, these tokens can be used to handle various language pairs. For example, if the model is trained on multiple language pairs (e.g., English-French, English-Spanish), these tokens can help the model distinguish between the different language pairs.\n",
    "* **Facilitating Language Identification:** In some cases, these tokens can also be used for language identification tasks, where the model is asked to determine the language of a given text.\n",
    "\n",
    "##### In above given example:\n",
    "\n",
    "* **\"__en__ translate Hindi to English: जॉर्ज मिलर हमेशा एक व्यक्ति को दोनों करना चाहते थे।\"**: This part tells the model that the following text is in English and the task is to translate the Hindi text that follows.\n",
    "* **\"__hi__ george miller always wanted one person to do both .\"**: This indicates that the following text is the English translation of the preceding Hindi text.\n",
    "\n",
    "**Note:** The specific tokens used (e.g., \"__hi__\", \"__en__\") can vary depending on the pre-training data and the specific configuration of the model. However, the general concept of using special tokens to indicate language remains consistent.\n",
    "\n",
    "By understanding the role of these tokens, one can better interpret the model's output and fine-tune your training data for more accurate translations.\n"
   ]
  },
  {
   "cell_type": "markdown",
   "metadata": {},
   "source": [
    "#### 2.1.2 M2M100 Tokenizer"
   ]
  },
  {
   "cell_type": "code",
   "execution_count": 6,
   "metadata": {},
   "outputs": [],
   "source": [
    "model_ID_fb = M2M100ForConditionalGeneration.from_pretrained(\"facebook/m2m100_418M\",)\n",
    "tokenizer_fb = M2M100Tokenizer.from_pretrained(\"facebook/m2m100_418M\", src_lang=\"en\", tgt_lang=\"hi\")\n"
   ]
  },
  {
   "cell_type": "code",
   "execution_count": 7,
   "metadata": {},
   "outputs": [
    {
     "name": "stdout",
     "output_type": "stream",
     "text": [
      "Original Hindi Input: translate Hindi to English: आधी रात के समय, जब दुनिया सो रही होगी, भारत जीवन और स्वतंत्रता के लिए जाग जाएगा।\n",
      "Input Tokens: ['__en__', '▁trans', 'late', '▁Hindi', '▁to', '▁English', ':', '▁आधी', '▁रात', '▁के', '▁समय', ',', '▁जब', '▁दुनिया', '▁सो', '▁रही', '▁होगी', ',', '▁भारत', '▁जीवन', '▁और', '▁स्वत', 'ंत्र', 'ता', '▁के', '▁लिए', '▁जाग', '▁जाएगा', '।', '</s>']\n",
      "Decoded Input Text: __en__ translate Hindi to English: आधी रात के समय, जब दुनिया सो रही होगी, भारत जीवन और स्वतंत्रता के लिए जाग जाएगा।</s>\n",
      "\n",
      "Original English Target: at the stroke of the midnight hour, when the world sleeps, india will awake to life and freedom.\n",
      "Target Tokens: ['__hi__', '▁at', '▁the', '▁stro', 'ke', '▁of', '▁the', '▁mid', 'night', '▁hour', ',', '▁when', '▁the', '▁world', '▁sleep', 's', ',', '▁india', '▁will', '▁aw', 'ake', '▁to', '▁life', '▁and', '▁fre', 'edom', '.', '</s>']\n",
      "Decoded Target Text: __hi__ at the stroke of the midnight hour, when the world sleeps, india will awake to life and freedom.</s>\n"
     ]
    }
   ],
   "source": [
    "# Sample data from the dataset\n",
    "sample2 = dataset[\"train\"][12]  # Replace with an actual sample index\n",
    "input_text2 = \"translate Hindi to English: \" + sample[\"Hindi\"]\n",
    "target_text2 = sample[\"English\"]\n",
    "\n",
    "# Tokenize inputs and targets\n",
    "inputs2 = tokenizer_fb(input_text2, return_tensors=\"pt\", padding=True, truncation=True)\n",
    "with tokenizer_fb.as_target_tokenizer():\n",
    "    targets2 = tokenizer_fb(target_text2, return_tensors=\"pt\", padding=True, truncation=True)\n",
    "\n",
    "# Convert token IDs back to tokens\n",
    "input_tokens2 = tokenizer_fb.convert_ids_to_tokens(inputs2[\"input_ids\"][0])\n",
    "target_tokens2 = tokenizer_fb.convert_ids_to_tokens(targets2[\"input_ids\"][0])\n",
    "\n",
    "# Print the results for inspection\n",
    "print(\"Original Hindi Input:\", input_text2)\n",
    "print(\"Input Tokens:\", input_tokens2)\n",
    "print(\"Decoded Input Text:\", tokenizer_fb.decode(inputs2[\"input_ids\"][0], skip_special_tokens=False))\n",
    "print(\"\\nOriginal English Target:\", target_text2)\n",
    "print(\"Target Tokens:\", target_tokens2)\n",
    "print(\"Decoded Target Text:\", tokenizer_fb.decode(targets2[\"input_ids\"][0], skip_special_tokens=False))"
   ]
  },
  {
   "cell_type": "code",
   "execution_count": 8,
   "metadata": {},
   "outputs": [
    {
     "name": "stdout",
     "output_type": "stream",
     "text": [
      "{'bos_token': '<s>', 'eos_token': '</s>', 'unk_token': '<unk>', 'sep_token': '</s>', 'pad_token': '<pad>', 'additional_special_tokens': ['__af__', '__am__', '__ar__', '__ast__', '__az__', '__ba__', '__be__', '__bg__', '__bn__', '__br__', '__bs__', '__ca__', '__ceb__', '__cs__', '__cy__', '__da__', '__de__', '__el__', '__en__', '__es__', '__et__', '__fa__', '__ff__', '__fi__', '__fr__', '__fy__', '__ga__', '__gd__', '__gl__', '__gu__', '__ha__', '__he__', '__hi__', '__hr__', '__ht__', '__hu__', '__hy__', '__id__', '__ig__', '__ilo__', '__is__', '__it__', '__ja__', '__jv__', '__ka__', '__kk__', '__km__', '__kn__', '__ko__', '__lb__', '__lg__', '__ln__', '__lo__', '__lt__', '__lv__', '__mg__', '__mk__', '__ml__', '__mn__', '__mr__', '__ms__', '__my__', '__ne__', '__nl__', '__no__', '__ns__', '__oc__', '__or__', '__pa__', '__pl__', '__ps__', '__pt__', '__ro__', '__ru__', '__sd__', '__si__', '__sk__', '__sl__', '__so__', '__sq__', '__sr__', '__ss__', '__su__', '__sv__', '__sw__', '__ta__', '__th__', '__tl__', '__tn__', '__tr__', '__uk__', '__ur__', '__uz__', '__vi__', '__wo__', '__xh__', '__yi__', '__yo__', '__zh__', '__zu__']}\n"
     ]
    }
   ],
   "source": [
    "print(tokenizer.special_tokens_map)  # Check special tokens (e.g., <pad>, <unk>, etc.)\n"
   ]
  },
  {
   "cell_type": "code",
   "execution_count": 9,
   "metadata": {},
   "outputs": [
    {
     "name": "stdout",
     "output_type": "stream",
     "text": [
      "{'bos_token': '<s>', 'eos_token': '</s>', 'unk_token': '<unk>', 'sep_token': '</s>', 'pad_token': '<pad>', 'additional_special_tokens': ['__af__', '__am__', '__ar__', '__ast__', '__az__', '__ba__', '__be__', '__bg__', '__bn__', '__br__', '__bs__', '__ca__', '__ceb__', '__cs__', '__cy__', '__da__', '__de__', '__el__', '__en__', '__es__', '__et__', '__fa__', '__ff__', '__fi__', '__fr__', '__fy__', '__ga__', '__gd__', '__gl__', '__gu__', '__ha__', '__he__', '__hi__', '__hr__', '__ht__', '__hu__', '__hy__', '__id__', '__ig__', '__ilo__', '__is__', '__it__', '__ja__', '__jv__', '__ka__', '__kk__', '__km__', '__kn__', '__ko__', '__lb__', '__lg__', '__ln__', '__lo__', '__lt__', '__lv__', '__mg__', '__mk__', '__ml__', '__mn__', '__mr__', '__ms__', '__my__', '__ne__', '__nl__', '__no__', '__ns__', '__oc__', '__or__', '__pa__', '__pl__', '__ps__', '__pt__', '__ro__', '__ru__', '__sd__', '__si__', '__sk__', '__sl__', '__so__', '__sq__', '__sr__', '__ss__', '__su__', '__sv__', '__sw__', '__ta__', '__th__', '__tl__', '__tn__', '__tr__', '__uk__', '__ur__', '__uz__', '__vi__', '__wo__', '__xh__', '__yi__', '__yo__', '__zh__', '__zu__']}\n"
     ]
    }
   ],
   "source": [
    "print(tokenizer_fb.special_tokens_map)  # Check special tokens (e.g., <pad>, <unk>, etc.)\n"
   ]
  },
  {
   "cell_type": "markdown",
   "metadata": {},
   "source": [
    "**Both tokenizers i.e. pretrained models and model-specific tokenizers can yield similar outputs in many scenarios, but this isn't a universal rule.**\n",
    "\n",
    "  -  ***When comparing different models, such as `M2M100` and `Google's T5 small`, we'll encounter variations in how unknown words are processed. The Google T5 small model, for instance, tends to generate more `<unk>` tokens when encountering vocabulary outside its training set, which can pose challenges for translation*** "
   ]
  },
  {
   "cell_type": "markdown",
   "metadata": {},
   "source": [
    "## 2.2 text preprocessing\n"
   ]
  },
  {
   "cell_type": "markdown",
   "metadata": {},
   "source": [
    "\n",
    "**Importance of Text Preprocessing:**\n",
    "\n",
    "1. **Converting Text to Numbers:** Machine learning models can't directly understand raw text. Preprocessing transforms text into numerical representations (tokens) that the model can process.\n",
    "\n",
    "2. **Normalization and Consistency:** Text data can have inconsistencies like capitalization, punctuation, and variations in word forms (e.g., singular vs. plural). Preprocessing steps like lowercasing or stemming/lemmatization can address these issues, promoting consistency in the data.\n",
    "\n",
    "3. **Feature Engineering:** Preprocessing can create new features for the model. In your example, prepending \"translate Hindi to English: \" to the source sentences might help the model understand the context of translation.\n",
    "\n",
    "4. **Handling Text Length:** Different models have limitations on input and output lengths. Preprocessing techniques like truncation and padding ensure your data adheres to these limitations."
   ]
  },
  {
   "cell_type": "code",
   "execution_count": 10,
   "metadata": {},
   "outputs": [],
   "source": [
    "def preprocess_function(examples):\n",
    "    inputs = [\"translate Hindi to English: \" + ex for ex in examples[\"Hindi\"]]\n",
    "    targets = examples[\"English\"]\n",
    "    model_inputs = tokenizer(inputs, max_length=128, truncation=True, padding=\"max_length\")\n",
    "    with tokenizer.as_target_tokenizer():\n",
    "        labels = tokenizer(targets, max_length=128, truncation=True, padding=\"max_length\")\n",
    "    model_inputs[\"labels\"] = labels[\"input_ids\"]\n",
    "    return model_inputs\n",
    "\n",
    "# Apply preprocessing\n",
    "tokenized_datasets = dataset.map(preprocess_function, batched=True)\n"
   ]
  },
  {
   "cell_type": "code",
   "execution_count": 11,
   "metadata": {},
   "outputs": [
    {
     "data": {
      "text/plain": [
       "DatasetDict({\n",
       "    train: Dataset({\n",
       "        features: ['English', 'Hindi', 'input_ids', 'attention_mask', 'labels'],\n",
       "        num_rows: 64\n",
       "    })\n",
       "    validation: Dataset({\n",
       "        features: ['English', 'Hindi', 'input_ids', 'attention_mask', 'labels'],\n",
       "        num_rows: 8\n",
       "    })\n",
       "    test: Dataset({\n",
       "        features: ['English', 'Hindi', 'input_ids', 'attention_mask', 'labels'],\n",
       "        num_rows: 8\n",
       "    })\n",
       "})"
      ]
     },
     "execution_count": 11,
     "metadata": {},
     "output_type": "execute_result"
    }
   ],
   "source": [
    "tokenized_datasets"
   ]
  },
  {
   "cell_type": "code",
   "execution_count": 12,
   "metadata": {},
   "outputs": [
    {
     "name": "stdout",
     "output_type": "stream",
     "text": [
      "Original Hindi: आज, कई इराकी गांवों को अपनी फुटबॉल टीमों को ढूंढना असामान्य नहीं है।\n",
      "Original English: today, it is not uncommon to find many iraqi villages having their own soccer teams.\n",
      "Tokenized Input IDs: [128022, 5815, 80447, 11631, 128, 18006, 9, 6370, 4, 31965, 5602, 2331, 5143, 103728, 1839, 929, 19450, 116884, 2372, 81122, 44107, 1839, 929, 21640, 2680, 1898, 17989, 1383, 27360, 10332, 3734, 4386, 776, 209, 2, 1, 1, 1, 1, 1, 1, 1, 1, 1, 1, 1, 1, 1, 1, 1, 1, 1, 1, 1, 1, 1, 1, 1, 1, 1, 1, 1, 1, 1, 1, 1, 1, 1, 1, 1, 1, 1, 1, 1, 1, 1, 1, 1, 1, 1, 1, 1, 1, 1, 1, 1, 1, 1, 1, 1, 1, 1, 1, 1, 1, 1, 1, 1, 1, 1, 1, 1, 1, 1, 1, 1, 1, 1, 1, 1, 1, 1, 1, 1, 1, 1, 1, 1, 1, 1, 1, 1, 1, 1, 1, 1, 1, 1]\n",
      "Decoded Input: __en__ translate Hindi to English: आज, कई इराकी गांवों को अपनी फुटबॉल टीमों को ढूंढना असामान्य नहीं है।</s><pad><pad><pad><pad><pad><pad><pad><pad><pad><pad><pad><pad><pad><pad><pad><pad><pad><pad><pad><pad><pad><pad><pad><pad><pad><pad><pad><pad><pad><pad><pad><pad><pad><pad><pad><pad><pad><pad><pad><pad><pad><pad><pad><pad><pad><pad><pad><pad><pad><pad><pad><pad><pad><pad><pad><pad><pad><pad><pad><pad><pad><pad><pad><pad><pad><pad><pad><pad><pad><pad><pad><pad><pad><pad><pad><pad><pad><pad><pad><pad><pad><pad><pad><pad><pad><pad><pad><pad><pad><pad><pad><pad><pad>\n",
      "Tokenized Label IDs: [128036, 118264, 4, 862, 117, 4632, 35, 440, 5722, 128, 41386, 99977, 31789, 8011, 3389, 11123, 120621, 73201, 114478, 12677, 2526, 121241, 5, 2, 1, 1, 1, 1, 1, 1, 1, 1, 1, 1, 1, 1, 1, 1, 1, 1, 1, 1, 1, 1, 1, 1, 1, 1, 1, 1, 1, 1, 1, 1, 1, 1, 1, 1, 1, 1, 1, 1, 1, 1, 1, 1, 1, 1, 1, 1, 1, 1, 1, 1, 1, 1, 1, 1, 1, 1, 1, 1, 1, 1, 1, 1, 1, 1, 1, 1, 1, 1, 1, 1, 1, 1, 1, 1, 1, 1, 1, 1, 1, 1, 1, 1, 1, 1, 1, 1, 1, 1, 1, 1, 1, 1, 1, 1, 1, 1, 1, 1, 1, 1, 1, 1, 1, 1]\n",
      "Decoded Label: __hi__ today, it is not uncommon to find many iraqi villages having their own soccer teams.</s><pad><pad><pad><pad><pad><pad><pad><pad><pad><pad><pad><pad><pad><pad><pad><pad><pad><pad><pad><pad><pad><pad><pad><pad><pad><pad><pad><pad><pad><pad><pad><pad><pad><pad><pad><pad><pad><pad><pad><pad><pad><pad><pad><pad><pad><pad><pad><pad><pad><pad><pad><pad><pad><pad><pad><pad><pad><pad><pad><pad><pad><pad><pad><pad><pad><pad><pad><pad><pad><pad><pad><pad><pad><pad><pad><pad><pad><pad><pad><pad><pad><pad><pad><pad><pad><pad><pad><pad><pad><pad><pad><pad><pad><pad><pad><pad><pad><pad><pad><pad><pad><pad><pad><pad>\n",
      "==========\n",
      "Original Hindi: 120 फिल्म अभी भी पाया जा सकता है और आज का उपयोग किया।\n",
      "Original English: 120 film can still be found and used today.\n",
      "Tokenized Input IDs: [128022, 5815, 80447, 11631, 128, 18006, 9, 7998, 20046, 55053, 3211, 4293, 3645, 4118, 27908, 776, 1544, 6370, 978, 42655, 8053, 209, 2, 1, 1, 1, 1, 1, 1, 1, 1, 1, 1, 1, 1, 1, 1, 1, 1, 1, 1, 1, 1, 1, 1, 1, 1, 1, 1, 1, 1, 1, 1, 1, 1, 1, 1, 1, 1, 1, 1, 1, 1, 1, 1, 1, 1, 1, 1, 1, 1, 1, 1, 1, 1, 1, 1, 1, 1, 1, 1, 1, 1, 1, 1, 1, 1, 1, 1, 1, 1, 1, 1, 1, 1, 1, 1, 1, 1, 1, 1, 1, 1, 1, 1, 1, 1, 1, 1, 1, 1, 1, 1, 1, 1, 1, 1, 1, 1, 1, 1, 1, 1, 1, 1, 1, 1, 1]\n",
      "Decoded Input: __en__ translate Hindi to English: 120 फिल्म अभी भी पाया जा सकता है और आज का उपयोग किया।</s><pad><pad><pad><pad><pad><pad><pad><pad><pad><pad><pad><pad><pad><pad><pad><pad><pad><pad><pad><pad><pad><pad><pad><pad><pad><pad><pad><pad><pad><pad><pad><pad><pad><pad><pad><pad><pad><pad><pad><pad><pad><pad><pad><pad><pad><pad><pad><pad><pad><pad><pad><pad><pad><pad><pad><pad><pad><pad><pad><pad><pad><pad><pad><pad><pad><pad><pad><pad><pad><pad><pad><pad><pad><pad><pad><pad><pad><pad><pad><pad><pad><pad><pad><pad><pad><pad><pad><pad><pad><pad><pad><pad><pad><pad><pad><pad><pad><pad><pad><pad><pad><pad><pad><pad><pad>\n",
      "Tokenized Label IDs: [128036, 7998, 2140, 3154, 25905, 667, 118728, 1019, 117408, 118264, 5, 2, 1, 1, 1, 1, 1, 1, 1, 1, 1, 1, 1, 1, 1, 1, 1, 1, 1, 1, 1, 1, 1, 1, 1, 1, 1, 1, 1, 1, 1, 1, 1, 1, 1, 1, 1, 1, 1, 1, 1, 1, 1, 1, 1, 1, 1, 1, 1, 1, 1, 1, 1, 1, 1, 1, 1, 1, 1, 1, 1, 1, 1, 1, 1, 1, 1, 1, 1, 1, 1, 1, 1, 1, 1, 1, 1, 1, 1, 1, 1, 1, 1, 1, 1, 1, 1, 1, 1, 1, 1, 1, 1, 1, 1, 1, 1, 1, 1, 1, 1, 1, 1, 1, 1, 1, 1, 1, 1, 1, 1, 1, 1, 1, 1, 1, 1, 1]\n",
      "Decoded Label: __hi__ 120 film can still be found and used today.</s><pad><pad><pad><pad><pad><pad><pad><pad><pad><pad><pad><pad><pad><pad><pad><pad><pad><pad><pad><pad><pad><pad><pad><pad><pad><pad><pad><pad><pad><pad><pad><pad><pad><pad><pad><pad><pad><pad><pad><pad><pad><pad><pad><pad><pad><pad><pad><pad><pad><pad><pad><pad><pad><pad><pad><pad><pad><pad><pad><pad><pad><pad><pad><pad><pad><pad><pad><pad><pad><pad><pad><pad><pad><pad><pad><pad><pad><pad><pad><pad><pad><pad><pad><pad><pad><pad><pad><pad><pad><pad><pad><pad><pad><pad><pad><pad><pad><pad><pad><pad><pad><pad><pad><pad><pad><pad><pad><pad><pad><pad><pad><pad><pad><pad><pad><pad>\n",
      "==========\n",
      "Original Hindi: फिर, एक अच्छी तरह से खिलाया गया ऊंट एक किले (महल) से हजारों (लोगों) को आश्रय देने से बेहतर होगा।\n",
      "Original English: then, a well-fed she-camel will be better than a fortress (castle) sheltering a thousand (people).\n",
      "Tokenized Input IDs: [128022, 5815, 80447, 11631, 128, 18006, 9, 21461, 4, 1618, 91143, 24994, 1044, 101245, 3645, 10397, 47169, 25705, 1618, 2884, 700, 11, 1124, 2642, 1110, 17, 1044, 14718, 1839, 11, 1110, 24669, 1839, 17, 929, 1843, 72431, 1931, 50196, 1044, 68868, 18561, 26567, 209, 2, 1, 1, 1, 1, 1, 1, 1, 1, 1, 1, 1, 1, 1, 1, 1, 1, 1, 1, 1, 1, 1, 1, 1, 1, 1, 1, 1, 1, 1, 1, 1, 1, 1, 1, 1, 1, 1, 1, 1, 1, 1, 1, 1, 1, 1, 1, 1, 1, 1, 1, 1, 1, 1, 1, 1, 1, 1, 1, 1, 1, 1, 1, 1, 1, 1, 1, 1, 1, 1, 1, 1, 1, 1, 1, 1, 1, 1, 1, 1, 1, 1, 1, 1]\n",
      "Decoded Input: __en__ translate Hindi to English: फिर, एक अच्छी तरह से खिलाया गया ऊंट एक किले (महल) से हजारों (लोगों) को आश्रय देने से बेहतर होगा।</s><pad><pad><pad><pad><pad><pad><pad><pad><pad><pad><pad><pad><pad><pad><pad><pad><pad><pad><pad><pad><pad><pad><pad><pad><pad><pad><pad><pad><pad><pad><pad><pad><pad><pad><pad><pad><pad><pad><pad><pad><pad><pad><pad><pad><pad><pad><pad><pad><pad><pad><pad><pad><pad><pad><pad><pad><pad><pad><pad><pad><pad><pad><pad><pad><pad><pad><pad><pad><pad><pad><pad><pad><pad><pad><pad><pad><pad><pad><pad><pad><pad><pad><pad>\n",
      "Tokenized Label IDs: [128036, 91186, 4, 8, 15816, 7, 40613, 10183, 7, 21133, 91, 13635, 667, 104927, 56427, 8, 193, 118032, 11, 28110, 271, 17, 1139, 91, 29086, 8, 125175, 501, 11, 907, 67627, 188, 2, 1, 1, 1, 1, 1, 1, 1, 1, 1, 1, 1, 1, 1, 1, 1, 1, 1, 1, 1, 1, 1, 1, 1, 1, 1, 1, 1, 1, 1, 1, 1, 1, 1, 1, 1, 1, 1, 1, 1, 1, 1, 1, 1, 1, 1, 1, 1, 1, 1, 1, 1, 1, 1, 1, 1, 1, 1, 1, 1, 1, 1, 1, 1, 1, 1, 1, 1, 1, 1, 1, 1, 1, 1, 1, 1, 1, 1, 1, 1, 1, 1, 1, 1, 1, 1, 1, 1, 1, 1, 1, 1, 1, 1, 1, 1]\n",
      "Decoded Label: __hi__ then, a well-fed she-camel will be better than a fortress (castle) sheltering a thousand (people).</s><pad><pad><pad><pad><pad><pad><pad><pad><pad><pad><pad><pad><pad><pad><pad><pad><pad><pad><pad><pad><pad><pad><pad><pad><pad><pad><pad><pad><pad><pad><pad><pad><pad><pad><pad><pad><pad><pad><pad><pad><pad><pad><pad><pad><pad><pad><pad><pad><pad><pad><pad><pad><pad><pad><pad><pad><pad><pad><pad><pad><pad><pad><pad><pad><pad><pad><pad><pad><pad><pad><pad><pad><pad><pad><pad><pad><pad><pad><pad><pad><pad><pad><pad><pad><pad><pad><pad><pad><pad><pad><pad><pad><pad><pad><pad>\n",
      "==========\n"
     ]
    }
   ],
   "source": [
    "# Inspect the first example\n",
    "for idx in range(3):  # Print first 3 examples as a sample\n",
    "    print(f\"Original Hindi: {dataset['train'][idx]['Hindi']}\")\n",
    "    print(f\"Original English: {dataset['train'][idx]['English']}\")\n",
    "\n",
    "    # Tokenized inputs\n",
    "    tokenized_input = tokenized_datasets[\"train\"][idx][\"input_ids\"]\n",
    "    print(f\"Tokenized Input IDs: {tokenized_input}\")\n",
    "    print(f\"Decoded Input: {tokenizer.decode(tokenized_input, skip_special_tokens=False)}\")\n",
    "\n",
    "    # Tokenized outputs\n",
    "    tokenized_label = tokenized_datasets[\"train\"][idx][\"labels\"]\n",
    "    print(f\"Tokenized Label IDs: {tokenized_label}\")\n",
    "    print(f\"Decoded Label: {tokenizer.decode(tokenized_label, skip_special_tokens=False)}\")\n",
    "\n",
    "    print(\"=\" * 10)"
   ]
  },
  {
   "cell_type": "markdown",
   "metadata": {},
   "source": [
    "**Specific Breakdown to Code:**\n",
    "\n",
    "- **`inputs = [\"translate Hindi to English: \" + ex for ex in examples[\"Hindi\"]]`**: This line creates a new list (`inputs`) by prepending a context string to each sentence in the `Hindi` column of the dataset.\n",
    "\n",
    "- **`model_inputs = tokenizer(inputs, max_length=128, truncation=True, padding=\"max_length\")`**: This tokenizes the `inputs` list, converting them into numerical representations using the `tokenizer`. The `max_length` argument limits the length of each sequence, and `truncation=True` ensures sequences exceeding the limit are shortened. `padding=\"max_length\"` pads shorter sequences with special tokens to create a uniform length.\n",
    "\n",
    "- **`with tokenizer.as_target_tokenizer():`**: This context manager configures the tokenizer for handling the target language (English) by setting the appropriate attributes.\n",
    "\n",
    "- **`labels = tokenizer(targets, max_length=128, truncation=True, padding=\"max_length\")`**: This tokenizes the target sentences (`English`) with similar parameters as the input.\n",
    "\n",
    "- **`model_inputs[\"labels\"] = labels[\"input_ids\"]`**: This adds the tokenized target sentence IDs (stored as `input_ids` in the `labels` dictionary) as a new key \"labels\" within the `model_inputs` dictionary.\n",
    "\n",
    "- **`tokenized_datasets = dataset.map(preprocess_function, batched=True)`**: This line applies the `preprocess_function` to each element of the dataset (`dataset`) in batches using `batched=True` for efficiency. The resulting processed data is stored in `tokenized_datasets`.\n",
    "\n",
    "In summary, this text preprocessing step transforms your raw text data into a format suitable for training your machine translation model. It ensures consistency, handles sequence lengths, and potentially adds contextual information to aid the translation process."
   ]
  },
  {
   "cell_type": "markdown",
   "metadata": {},
   "source": [
    "## 2.3 Data collator\n"
   ]
  },
  {
   "cell_type": "markdown",
   "metadata": {},
   "source": [
    "In machine learning, particularly for transformer models, a data collator plays a crucial role in preparing batches of data for training. It's essentially a function that takes individual samples and combines them into batches in a way that's efficient and optimized for the model's processing.\n",
    "\n",
    "\n",
    "For sequence-to-sequence tasks like translation, a specialized data collator (often DataCollatorForSeq2Seq) becomes critical. It ensures that:\n",
    "- Source and target sequences are properly aligned\n",
    "- Padding is applied consistently\n",
    "- Attention mechanisms can correctly ignore padded tokens\n",
    "- Labels are prepared in a format that allows for loss calculation during training\n",
    "\n",
    "\n",
    "\n",
    "Without a proper data collator, you'd need to manually handle sequence padding, masking, and batch preparation, which would be computationally expensive and error-prone."
   ]
  },
  {
   "cell_type": "code",
   "execution_count": 13,
   "metadata": {},
   "outputs": [],
   "source": [
    "data_collator = DataCollatorForSeq2Seq(tokenizer=tokenizer, model=model_ID)"
   ]
  },
  {
   "cell_type": "markdown",
   "metadata": {},
   "source": [
    "## 2.4 BLEU (Bilingual Evaluation Understudy): \n"
   ]
  },
  {
   "cell_type": "code",
   "execution_count": 14,
   "metadata": {},
   "outputs": [],
   "source": [
    "metric = evaluate.load(\"sacrebleu\")"
   ]
  },
  {
   "cell_type": "code",
   "execution_count": 15,
   "metadata": {},
   "outputs": [],
   "source": [
    "def postprocess_text(preds, labels):\n",
    "    preds = [pred.strip() for pred in preds]\n",
    "    labels = [[label.strip()] for label in labels]\n",
    "\n",
    "    return preds, labels\n",
    "\n",
    "\n",
    "def compute_metrics(eval_preds):\n",
    "    preds, labels = eval_preds\n",
    "    if isinstance(preds, tuple):\n",
    "        preds = preds[0]\n",
    "    decoded_preds = tokenizer.batch_decode(preds, skip_special_tokens=True)\n",
    "\n",
    "    labels = np.where(labels != -100, labels, tokenizer.pad_token_id)\n",
    "    decoded_labels = tokenizer.batch_decode(labels, skip_special_tokens=True)\n",
    "\n",
    "    decoded_preds, decoded_labels = postprocess_text(decoded_preds, decoded_labels)\n",
    "\n",
    "    result = metric.compute(predictions=decoded_preds, references=decoded_labels)\n",
    "    result = {\"bleu\": result[\"score\"]}\n",
    "\n",
    "    prediction_lens = [np.count_nonzero(pred != tokenizer.pad_token_id) for pred in preds]\n",
    "    result[\"gen_len\"] = np.mean(prediction_lens)\n",
    "    result = {k: round(v, 4) for k, v in result.items()}\n",
    "    return result"
   ]
  },
  {
   "cell_type": "markdown",
   "metadata": {},
   "source": [
    "## 2.5 Fine Tuning\n"
   ]
  },
  {
   "cell_type": "code",
   "execution_count": 16,
   "metadata": {},
   "outputs": [
    {
     "name": "stderr",
     "output_type": "stream",
     "text": [
      "C:\\Users\\akthe\\AppData\\Local\\Temp\\ipykernel_25880\\1795905752.py:15: FutureWarning: `tokenizer` is deprecated and will be removed in version 5.0.0 for `Seq2SeqTrainer.__init__`. Use `processing_class` instead.\n",
      "  trainer = Seq2SeqTrainer(\n"
     ]
    },
    {
     "data": {
      "application/vnd.jupyter.widget-view+json": {
       "model_id": "babae1cd882d4f10b234750a4a7a6ccd",
       "version_major": 2,
       "version_minor": 0
      },
      "text/plain": [
       "  0%|          | 0/24 [00:00<?, ?it/s]"
      ]
     },
     "metadata": {},
     "output_type": "display_data"
    },
    {
     "name": "stderr",
     "output_type": "stream",
     "text": [
      "Trainer.tokenizer is now deprecated. You should use Trainer.processing_class instead.\n",
      "Trainer.tokenizer is now deprecated. You should use Trainer.processing_class instead.\n",
      "Trainer.tokenizer is now deprecated. You should use Trainer.processing_class instead.\n",
      "Trainer.tokenizer is now deprecated. You should use Trainer.processing_class instead.\n",
      "Trainer.tokenizer is now deprecated. You should use Trainer.processing_class instead.\n",
      "Trainer.tokenizer is now deprecated. You should use Trainer.processing_class instead.\n",
      "Trainer.tokenizer is now deprecated. You should use Trainer.processing_class instead.\n",
      "Trainer.tokenizer is now deprecated. You should use Trainer.processing_class instead.\n"
     ]
    },
    {
     "data": {
      "application/vnd.jupyter.widget-view+json": {
       "model_id": "b238060998254b33912d76b0826682d8",
       "version_major": 2,
       "version_minor": 0
      },
      "text/plain": [
       "  0%|          | 0/1 [00:00<?, ?it/s]"
      ]
     },
     "metadata": {},
     "output_type": "display_data"
    },
    {
     "name": "stdout",
     "output_type": "stream",
     "text": [
      "{'eval_loss': 9.693659782409668, 'eval_bleu': 0.634, 'eval_gen_len': 21.25, 'eval_runtime': 12.6929, 'eval_samples_per_second': 0.63, 'eval_steps_per_second': 0.079, 'epoch': 1.0}\n"
     ]
    },
    {
     "name": "stderr",
     "output_type": "stream",
     "text": [
      "Trainer.tokenizer is now deprecated. You should use Trainer.processing_class instead.\n",
      "Trainer.tokenizer is now deprecated. You should use Trainer.processing_class instead.\n",
      "Trainer.tokenizer is now deprecated. You should use Trainer.processing_class instead.\n",
      "Trainer.tokenizer is now deprecated. You should use Trainer.processing_class instead.\n",
      "Trainer.tokenizer is now deprecated. You should use Trainer.processing_class instead.\n",
      "Trainer.tokenizer is now deprecated. You should use Trainer.processing_class instead.\n",
      "Trainer.tokenizer is now deprecated. You should use Trainer.processing_class instead.\n",
      "Trainer.tokenizer is now deprecated. You should use Trainer.processing_class instead.\n"
     ]
    },
    {
     "data": {
      "application/vnd.jupyter.widget-view+json": {
       "model_id": "50ad3ff704f74148b6cd42848563110c",
       "version_major": 2,
       "version_minor": 0
      },
      "text/plain": [
       "  0%|          | 0/1 [00:00<?, ?it/s]"
      ]
     },
     "metadata": {},
     "output_type": "display_data"
    },
    {
     "name": "stdout",
     "output_type": "stream",
     "text": [
      "{'eval_loss': 7.690088272094727, 'eval_bleu': 4.9333, 'eval_gen_len': 20.5, 'eval_runtime': 14.1648, 'eval_samples_per_second': 0.565, 'eval_steps_per_second': 0.071, 'epoch': 2.0}\n"
     ]
    },
    {
     "name": "stderr",
     "output_type": "stream",
     "text": [
      "c:\\Users\\akthe\\miniconda3\\envs\\WPanda\\Lib\\site-packages\\transformers\\modeling_utils.py:2748: UserWarning: Moving the following attributes in the config to the generation config: {'max_length': 200, 'early_stopping': True, 'num_beams': 5}. You are seeing this warning because you've set generation parameters in the model config, as opposed to in the generation config.\n",
      "  warnings.warn(\n",
      "Trainer.tokenizer is now deprecated. You should use Trainer.processing_class instead.\n",
      "Trainer.tokenizer is now deprecated. You should use Trainer.processing_class instead.\n",
      "Trainer.tokenizer is now deprecated. You should use Trainer.processing_class instead.\n",
      "Trainer.tokenizer is now deprecated. You should use Trainer.processing_class instead.\n",
      "Trainer.tokenizer is now deprecated. You should use Trainer.processing_class instead.\n",
      "Trainer.tokenizer is now deprecated. You should use Trainer.processing_class instead.\n",
      "Trainer.tokenizer is now deprecated. You should use Trainer.processing_class instead.\n",
      "Trainer.tokenizer is now deprecated. You should use Trainer.processing_class instead.\n"
     ]
    },
    {
     "data": {
      "application/vnd.jupyter.widget-view+json": {
       "model_id": "9cf7e9af31b94fb49afdb33e99b1ae8b",
       "version_major": 2,
       "version_minor": 0
      },
      "text/plain": [
       "  0%|          | 0/1 [00:00<?, ?it/s]"
      ]
     },
     "metadata": {},
     "output_type": "display_data"
    },
    {
     "name": "stdout",
     "output_type": "stream",
     "text": [
      "{'eval_loss': 7.124824523925781, 'eval_bleu': 21.1661, 'eval_gen_len': 15.125, 'eval_runtime': 10.8704, 'eval_samples_per_second': 0.736, 'eval_steps_per_second': 0.092, 'epoch': 3.0}\n",
      "{'train_runtime': 182.1089, 'train_samples_per_second': 1.054, 'train_steps_per_second': 0.132, 'train_loss': 9.184309641520182, 'epoch': 3.0}\n"
     ]
    },
    {
     "data": {
      "text/plain": [
       "TrainOutput(global_step=24, training_loss=9.184309641520182, metrics={'train_runtime': 182.1089, 'train_samples_per_second': 1.054, 'train_steps_per_second': 0.132, 'total_flos': 52010510450688.0, 'train_loss': 9.184309641520182, 'epoch': 3.0})"
      ]
     },
     "execution_count": 16,
     "metadata": {},
     "output_type": "execute_result"
    }
   ],
   "source": [
    "training_args = Seq2SeqTrainingArguments(\n",
    "    output_dir=\"../Model/Base/Checkpoint/\",\n",
    "    eval_strategy=\"epoch\",\n",
    "    learning_rate=2e-5,\n",
    "    per_device_train_batch_size=8,\n",
    "    per_device_eval_batch_size=8,\n",
    "    weight_decay=0.01,\n",
    "    save_total_limit=3,\n",
    "    num_train_epochs=3,\n",
    "    predict_with_generate=True,\n",
    "    fp16=True, #change to bf16=True for XPU\n",
    "    \n",
    ")\n",
    "\n",
    "trainer = Seq2SeqTrainer(\n",
    "    model=model,\n",
    "    args=training_args,\n",
    "    train_dataset=tokenized_datasets[\"train\"],\n",
    "    eval_dataset=tokenized_datasets[\"test\"],\n",
    "    tokenizer=tokenizer,\n",
    "    data_collator=data_collator,\n",
    "    compute_metrics=compute_metrics,\n",
    "    \n",
    ")\n",
    "\n",
    "trainer.train()"
   ]
  },
  {
   "cell_type": "markdown",
   "metadata": {},
   "source": [
    "## 2.6 Saving Finetuned Model\n"
   ]
  },
  {
   "cell_type": "code",
   "execution_count": 53,
   "metadata": {},
   "outputs": [
    {
     "data": {
      "text/plain": [
       "('../Model/Base/M2M100/tokenizer_config.json',\n",
       " '../Model/Base/M2M100/special_tokens_map.json',\n",
       " '..\\\\Model\\\\Base\\\\M2M100\\\\vocab.json',\n",
       " '..\\\\Model\\\\Base\\\\M2M100\\\\sentencepiece.bpe.model',\n",
       " '../Model/Base/M2M100/added_tokens.json')"
      ]
     },
     "execution_count": 53,
     "metadata": {},
     "output_type": "execute_result"
    }
   ],
   "source": [
    "trainer.save_model(\"../Model/Base/M2M100/\")\n",
    "tokenizer.save_pretrained(\"../Model/Base/M2M100/\")\n"
   ]
  },
  {
   "cell_type": "markdown",
   "metadata": {},
   "source": [
    "## 2.7 laoding & testing Finetuned Model\n"
   ]
  },
  {
   "cell_type": "code",
   "execution_count": 54,
   "metadata": {},
   "outputs": [
    {
     "name": "stderr",
     "output_type": "stream",
     "text": [
      "Device set to use cuda:0\n"
     ]
    },
    {
     "data": {
      "text/plain": [
       "[{'translation_text': 'तुम पागल हो'}]"
      ]
     },
     "execution_count": 54,
     "metadata": {},
     "output_type": "execute_result"
    }
   ],
   "source": [
    "from transformers import pipeline\n",
    "text = 'are u dick'\n",
    "translator = pipeline(\"translation_en_to_hi\", model=\"../Model/Base/M2M100/\")\n",
    "translator(text)\n"
   ]
  },
  {
   "cell_type": "code",
   "execution_count": 19,
   "metadata": {},
   "outputs": [],
   "source": [
    "import torch, gc\n",
    "gc.collect()\n",
    "torch.cuda.empty_cache()"
   ]
  },
  {
   "cell_type": "markdown",
   "metadata": {},
   "source": [
    "# 3.\tFacebook / M2M100 418M + LoRa\n",
    "- LoRA (Low-Rank Adaptation) refers to a parameter-efficient fine-tuning technique.\n"
   ]
  },
  {
   "cell_type": "markdown",
   "metadata": {},
   "source": [
    "![alt text](image.png)"
   ]
  },
  {
   "cell_type": "markdown",
   "metadata": {},
   "source": [
    "In the context of Large Language Models (LLMs), LoRA (Low-Rank Adaptation) refers to a parameter-efficient fine-tuning technique. \n",
    "\n",
    "**Key Concepts:**\n",
    "\n",
    "* **Fine-tuning:** LLMs are often pre-trained on massive datasets. Fine-tuning involves adapting these pre-trained models to specific tasks or domains using smaller, more relevant datasets.\n",
    "* **Parameter-Efficiency:** Fine-tuning LLMs can be computationally expensive, especially for very large models. LoRA addresses this by significantly reducing the number of parameters that need to be updated during fine-tuning.\n",
    "\n",
    "**How LoRA Works:**\n",
    "\n",
    "Instead of fine-tuning all the parameters of the base LLM, LoRA introduces two small, trainable matrices (A and B) for each attention layer:\n",
    "\n",
    "1. **Decomposition:** The update to the original weight matrix (W) is approximated as the product of these two smaller matrices: W' = W + A * B.\n",
    "2. **Reduced Parameters:** Since A and B have significantly fewer parameters than the original weight matrix, the overall number of trainable parameters is drastically reduced.\n",
    "3. **Fine-tuning:** Only the parameters of A and B are trained during fine-tuning, while the original weights of the base LLM remain frozen.\n",
    "\n",
    "**Benefits of LoRA:**\n",
    "\n",
    "* **Reduced Training Time and Cost:** By training only a small subset of parameters, LoRA significantly reduces training time and computational resources.\n",
    "* **Improved Efficiency:** The smaller number of parameters leads to faster inference times.\n",
    "* **Preserving Base Model:** Since the base model's weights are frozen, it retains its general knowledge and capabilities while being adapted to the specific task.\n",
    "* **Easier Deployment:** Smaller models are easier to deploy and run on devices with limited resources.\n",
    "\n",
    "**Applications:**\n",
    "\n",
    "LoRA has been successfully applied to a wide range of LLM fine-tuning tasks, including:\n",
    "\n",
    "* **Domain Adaptation:** Adapting LLMs to specific domains like finance, medicine, or law.\n",
    "* **Task-Specific Fine-tuning:** Fine-tuning LLMs for specific tasks such as question answering, text summarization, and code generation.\n",
    "* **Personalization:** Creating personalized LLMs for individual users or groups.\n",
    "\n",
    "**In summary:**\n",
    "\n",
    "LoRA is a powerful technique that enables efficient and effective fine-tuning of LLMs. By significantly reducing the number of trainable parameters, LoRA makes it possible to customize large models for specific applications while minimizing training costs and preserving the valuable knowledge of the base model.\n"
   ]
  },
  {
   "cell_type": "markdown",
   "metadata": {},
   "source": [
    "## 3.1 Model self attention layer\n",
    "- it is crucial to know self attention module defined as in lora weight changes of these metrics are tracked"
   ]
  },
  {
   "cell_type": "code",
   "execution_count": 20,
   "metadata": {},
   "outputs": [
    {
     "name": "stdout",
     "output_type": "stream",
     "text": [
      " M2M100ForConditionalGeneration(\n",
      "  (model): M2M100Model(\n",
      "    (shared): M2M100ScaledWordEmbedding(128112, 1024, padding_idx=1)\n",
      "    (encoder): M2M100Encoder(\n",
      "      (embed_tokens): M2M100ScaledWordEmbedding(128112, 1024, padding_idx=1)\n",
      "      (embed_positions): M2M100SinusoidalPositionalEmbedding()\n",
      "      (layers): ModuleList(\n",
      "        (0-11): 12 x M2M100EncoderLayer(\n",
      "          (self_attn): M2M100SdpaAttention(\n",
      "            (k_proj): Linear(in_features=1024, out_features=1024, bias=True)\n",
      "            (v_proj): Linear(in_features=1024, out_features=1024, bias=True)\n",
      "            (q_proj): Linear(in_features=1024, out_features=1024, bias=True)\n",
      "            (out_proj): Linear(in_features=1024, out_features=1024, bias=True)\n",
      "          )\n",
      "          (self_attn_layer_norm): LayerNorm((1024,), eps=1e-05, elementwise_affine=True)\n",
      "          (activation_fn): ReLU()\n",
      "          (fc1): Linear(in_features=1024, out_features=4096, bias=True)\n",
      "          (fc2): Linear(in_features=4096, out_features=1024, bias=True)\n",
      "          (final_layer_norm): LayerNorm((1024,), eps=1e-05, elementwise_affine=True)\n",
      "        )\n",
      "      )\n",
      "      (layer_norm): LayerNorm((1024,), eps=1e-05, elementwise_affine=True)\n",
      "    )\n",
      "    (decoder): M2M100Decoder(\n",
      "      (embed_tokens): M2M100ScaledWordEmbedding(128112, 1024, padding_idx=1)\n",
      "      (embed_positions): M2M100SinusoidalPositionalEmbedding()\n",
      "      (layers): ModuleList(\n",
      "        (0-11): 12 x M2M100DecoderLayer(\n",
      "          (self_attn): M2M100SdpaAttention(\n",
      "            (k_proj): Linear(in_features=1024, out_features=1024, bias=True)\n",
      "            (v_proj): Linear(in_features=1024, out_features=1024, bias=True)\n",
      "            (q_proj): Linear(in_features=1024, out_features=1024, bias=True)\n",
      "            (out_proj): Linear(in_features=1024, out_features=1024, bias=True)\n",
      "          )\n",
      "          (activation_fn): ReLU()\n",
      "          (self_attn_layer_norm): LayerNorm((1024,), eps=1e-05, elementwise_affine=True)\n",
      "          (encoder_attn): M2M100SdpaAttention(\n",
      "            (k_proj): Linear(in_features=1024, out_features=1024, bias=True)\n",
      "            (v_proj): Linear(in_features=1024, out_features=1024, bias=True)\n",
      "            (q_proj): Linear(in_features=1024, out_features=1024, bias=True)\n",
      "            (out_proj): Linear(in_features=1024, out_features=1024, bias=True)\n",
      "          )\n",
      "          (encoder_attn_layer_norm): LayerNorm((1024,), eps=1e-05, elementwise_affine=True)\n",
      "          (fc1): Linear(in_features=1024, out_features=4096, bias=True)\n",
      "          (fc2): Linear(in_features=4096, out_features=1024, bias=True)\n",
      "          (final_layer_norm): LayerNorm((1024,), eps=1e-05, elementwise_affine=True)\n",
      "        )\n",
      "      )\n",
      "      (layer_norm): LayerNorm((1024,), eps=1e-05, elementwise_affine=True)\n",
      "    )\n",
      "  )\n",
      "  (lm_head): Linear(in_features=1024, out_features=128112, bias=False)\n",
      ")\n",
      "model M2M100Model(\n",
      "  (shared): M2M100ScaledWordEmbedding(128112, 1024, padding_idx=1)\n",
      "  (encoder): M2M100Encoder(\n",
      "    (embed_tokens): M2M100ScaledWordEmbedding(128112, 1024, padding_idx=1)\n",
      "    (embed_positions): M2M100SinusoidalPositionalEmbedding()\n",
      "    (layers): ModuleList(\n",
      "      (0-11): 12 x M2M100EncoderLayer(\n",
      "        (self_attn): M2M100SdpaAttention(\n",
      "          (k_proj): Linear(in_features=1024, out_features=1024, bias=True)\n",
      "          (v_proj): Linear(in_features=1024, out_features=1024, bias=True)\n",
      "          (q_proj): Linear(in_features=1024, out_features=1024, bias=True)\n",
      "          (out_proj): Linear(in_features=1024, out_features=1024, bias=True)\n",
      "        )\n",
      "        (self_attn_layer_norm): LayerNorm((1024,), eps=1e-05, elementwise_affine=True)\n",
      "        (activation_fn): ReLU()\n",
      "        (fc1): Linear(in_features=1024, out_features=4096, bias=True)\n",
      "        (fc2): Linear(in_features=4096, out_features=1024, bias=True)\n",
      "        (final_layer_norm): LayerNorm((1024,), eps=1e-05, elementwise_affine=True)\n",
      "      )\n",
      "    )\n",
      "    (layer_norm): LayerNorm((1024,), eps=1e-05, elementwise_affine=True)\n",
      "  )\n",
      "  (decoder): M2M100Decoder(\n",
      "    (embed_tokens): M2M100ScaledWordEmbedding(128112, 1024, padding_idx=1)\n",
      "    (embed_positions): M2M100SinusoidalPositionalEmbedding()\n",
      "    (layers): ModuleList(\n",
      "      (0-11): 12 x M2M100DecoderLayer(\n",
      "        (self_attn): M2M100SdpaAttention(\n",
      "          (k_proj): Linear(in_features=1024, out_features=1024, bias=True)\n",
      "          (v_proj): Linear(in_features=1024, out_features=1024, bias=True)\n",
      "          (q_proj): Linear(in_features=1024, out_features=1024, bias=True)\n",
      "          (out_proj): Linear(in_features=1024, out_features=1024, bias=True)\n",
      "        )\n",
      "        (activation_fn): ReLU()\n",
      "        (self_attn_layer_norm): LayerNorm((1024,), eps=1e-05, elementwise_affine=True)\n",
      "        (encoder_attn): M2M100SdpaAttention(\n",
      "          (k_proj): Linear(in_features=1024, out_features=1024, bias=True)\n",
      "          (v_proj): Linear(in_features=1024, out_features=1024, bias=True)\n",
      "          (q_proj): Linear(in_features=1024, out_features=1024, bias=True)\n",
      "          (out_proj): Linear(in_features=1024, out_features=1024, bias=True)\n",
      "        )\n",
      "        (encoder_attn_layer_norm): LayerNorm((1024,), eps=1e-05, elementwise_affine=True)\n",
      "        (fc1): Linear(in_features=1024, out_features=4096, bias=True)\n",
      "        (fc2): Linear(in_features=4096, out_features=1024, bias=True)\n",
      "        (final_layer_norm): LayerNorm((1024,), eps=1e-05, elementwise_affine=True)\n",
      "      )\n",
      "    )\n",
      "    (layer_norm): LayerNorm((1024,), eps=1e-05, elementwise_affine=True)\n",
      "  )\n",
      ")\n",
      "model.shared M2M100ScaledWordEmbedding(128112, 1024, padding_idx=1)\n",
      "model.encoder M2M100Encoder(\n",
      "  (embed_tokens): M2M100ScaledWordEmbedding(128112, 1024, padding_idx=1)\n",
      "  (embed_positions): M2M100SinusoidalPositionalEmbedding()\n",
      "  (layers): ModuleList(\n",
      "    (0-11): 12 x M2M100EncoderLayer(\n",
      "      (self_attn): M2M100SdpaAttention(\n",
      "        (k_proj): Linear(in_features=1024, out_features=1024, bias=True)\n",
      "        (v_proj): Linear(in_features=1024, out_features=1024, bias=True)\n",
      "        (q_proj): Linear(in_features=1024, out_features=1024, bias=True)\n",
      "        (out_proj): Linear(in_features=1024, out_features=1024, bias=True)\n",
      "      )\n",
      "      (self_attn_layer_norm): LayerNorm((1024,), eps=1e-05, elementwise_affine=True)\n",
      "      (activation_fn): ReLU()\n",
      "      (fc1): Linear(in_features=1024, out_features=4096, bias=True)\n",
      "      (fc2): Linear(in_features=4096, out_features=1024, bias=True)\n",
      "      (final_layer_norm): LayerNorm((1024,), eps=1e-05, elementwise_affine=True)\n",
      "    )\n",
      "  )\n",
      "  (layer_norm): LayerNorm((1024,), eps=1e-05, elementwise_affine=True)\n",
      ")\n",
      "model.encoder.embed_tokens M2M100ScaledWordEmbedding(128112, 1024, padding_idx=1)\n",
      "model.encoder.embed_positions M2M100SinusoidalPositionalEmbedding()\n",
      "model.encoder.layers ModuleList(\n",
      "  (0-11): 12 x M2M100EncoderLayer(\n",
      "    (self_attn): M2M100SdpaAttention(\n",
      "      (k_proj): Linear(in_features=1024, out_features=1024, bias=True)\n",
      "      (v_proj): Linear(in_features=1024, out_features=1024, bias=True)\n",
      "      (q_proj): Linear(in_features=1024, out_features=1024, bias=True)\n",
      "      (out_proj): Linear(in_features=1024, out_features=1024, bias=True)\n",
      "    )\n",
      "    (self_attn_layer_norm): LayerNorm((1024,), eps=1e-05, elementwise_affine=True)\n",
      "    (activation_fn): ReLU()\n",
      "    (fc1): Linear(in_features=1024, out_features=4096, bias=True)\n",
      "    (fc2): Linear(in_features=4096, out_features=1024, bias=True)\n",
      "    (final_layer_norm): LayerNorm((1024,), eps=1e-05, elementwise_affine=True)\n",
      "  )\n",
      ")\n",
      "model.encoder.layers.0 M2M100EncoderLayer(\n",
      "  (self_attn): M2M100SdpaAttention(\n",
      "    (k_proj): Linear(in_features=1024, out_features=1024, bias=True)\n",
      "    (v_proj): Linear(in_features=1024, out_features=1024, bias=True)\n",
      "    (q_proj): Linear(in_features=1024, out_features=1024, bias=True)\n",
      "    (out_proj): Linear(in_features=1024, out_features=1024, bias=True)\n",
      "  )\n",
      "  (self_attn_layer_norm): LayerNorm((1024,), eps=1e-05, elementwise_affine=True)\n",
      "  (activation_fn): ReLU()\n",
      "  (fc1): Linear(in_features=1024, out_features=4096, bias=True)\n",
      "  (fc2): Linear(in_features=4096, out_features=1024, bias=True)\n",
      "  (final_layer_norm): LayerNorm((1024,), eps=1e-05, elementwise_affine=True)\n",
      ")\n",
      "model.encoder.layers.0.self_attn M2M100SdpaAttention(\n",
      "  (k_proj): Linear(in_features=1024, out_features=1024, bias=True)\n",
      "  (v_proj): Linear(in_features=1024, out_features=1024, bias=True)\n",
      "  (q_proj): Linear(in_features=1024, out_features=1024, bias=True)\n",
      "  (out_proj): Linear(in_features=1024, out_features=1024, bias=True)\n",
      ")\n",
      "model.encoder.layers.0.self_attn.k_proj Linear(in_features=1024, out_features=1024, bias=True)\n",
      "model.encoder.layers.0.self_attn.v_proj Linear(in_features=1024, out_features=1024, bias=True)\n",
      "model.encoder.layers.0.self_attn.q_proj Linear(in_features=1024, out_features=1024, bias=True)\n",
      "model.encoder.layers.0.self_attn.out_proj Linear(in_features=1024, out_features=1024, bias=True)\n",
      "model.encoder.layers.0.self_attn_layer_norm LayerNorm((1024,), eps=1e-05, elementwise_affine=True)\n",
      "model.encoder.layers.0.activation_fn ReLU()\n",
      "model.encoder.layers.0.fc1 Linear(in_features=1024, out_features=4096, bias=True)\n",
      "model.encoder.layers.0.fc2 Linear(in_features=4096, out_features=1024, bias=True)\n",
      "model.encoder.layers.0.final_layer_norm LayerNorm((1024,), eps=1e-05, elementwise_affine=True)\n",
      "model.encoder.layers.1 M2M100EncoderLayer(\n",
      "  (self_attn): M2M100SdpaAttention(\n",
      "    (k_proj): Linear(in_features=1024, out_features=1024, bias=True)\n",
      "    (v_proj): Linear(in_features=1024, out_features=1024, bias=True)\n",
      "    (q_proj): Linear(in_features=1024, out_features=1024, bias=True)\n",
      "    (out_proj): Linear(in_features=1024, out_features=1024, bias=True)\n",
      "  )\n",
      "  (self_attn_layer_norm): LayerNorm((1024,), eps=1e-05, elementwise_affine=True)\n",
      "  (activation_fn): ReLU()\n",
      "  (fc1): Linear(in_features=1024, out_features=4096, bias=True)\n",
      "  (fc2): Linear(in_features=4096, out_features=1024, bias=True)\n",
      "  (final_layer_norm): LayerNorm((1024,), eps=1e-05, elementwise_affine=True)\n",
      ")\n",
      "model.encoder.layers.1.self_attn M2M100SdpaAttention(\n",
      "  (k_proj): Linear(in_features=1024, out_features=1024, bias=True)\n",
      "  (v_proj): Linear(in_features=1024, out_features=1024, bias=True)\n",
      "  (q_proj): Linear(in_features=1024, out_features=1024, bias=True)\n",
      "  (out_proj): Linear(in_features=1024, out_features=1024, bias=True)\n",
      ")\n",
      "model.encoder.layers.1.self_attn.k_proj Linear(in_features=1024, out_features=1024, bias=True)\n",
      "model.encoder.layers.1.self_attn.v_proj Linear(in_features=1024, out_features=1024, bias=True)\n",
      "model.encoder.layers.1.self_attn.q_proj Linear(in_features=1024, out_features=1024, bias=True)\n",
      "model.encoder.layers.1.self_attn.out_proj Linear(in_features=1024, out_features=1024, bias=True)\n",
      "model.encoder.layers.1.self_attn_layer_norm LayerNorm((1024,), eps=1e-05, elementwise_affine=True)\n",
      "model.encoder.layers.1.activation_fn ReLU()\n",
      "model.encoder.layers.1.fc1 Linear(in_features=1024, out_features=4096, bias=True)\n",
      "model.encoder.layers.1.fc2 Linear(in_features=4096, out_features=1024, bias=True)\n",
      "model.encoder.layers.1.final_layer_norm LayerNorm((1024,), eps=1e-05, elementwise_affine=True)\n",
      "model.encoder.layers.2 M2M100EncoderLayer(\n",
      "  (self_attn): M2M100SdpaAttention(\n",
      "    (k_proj): Linear(in_features=1024, out_features=1024, bias=True)\n",
      "    (v_proj): Linear(in_features=1024, out_features=1024, bias=True)\n",
      "    (q_proj): Linear(in_features=1024, out_features=1024, bias=True)\n",
      "    (out_proj): Linear(in_features=1024, out_features=1024, bias=True)\n",
      "  )\n",
      "  (self_attn_layer_norm): LayerNorm((1024,), eps=1e-05, elementwise_affine=True)\n",
      "  (activation_fn): ReLU()\n",
      "  (fc1): Linear(in_features=1024, out_features=4096, bias=True)\n",
      "  (fc2): Linear(in_features=4096, out_features=1024, bias=True)\n",
      "  (final_layer_norm): LayerNorm((1024,), eps=1e-05, elementwise_affine=True)\n",
      ")\n",
      "model.encoder.layers.2.self_attn M2M100SdpaAttention(\n",
      "  (k_proj): Linear(in_features=1024, out_features=1024, bias=True)\n",
      "  (v_proj): Linear(in_features=1024, out_features=1024, bias=True)\n",
      "  (q_proj): Linear(in_features=1024, out_features=1024, bias=True)\n",
      "  (out_proj): Linear(in_features=1024, out_features=1024, bias=True)\n",
      ")\n",
      "model.encoder.layers.2.self_attn.k_proj Linear(in_features=1024, out_features=1024, bias=True)\n",
      "model.encoder.layers.2.self_attn.v_proj Linear(in_features=1024, out_features=1024, bias=True)\n",
      "model.encoder.layers.2.self_attn.q_proj Linear(in_features=1024, out_features=1024, bias=True)\n",
      "model.encoder.layers.2.self_attn.out_proj Linear(in_features=1024, out_features=1024, bias=True)\n",
      "model.encoder.layers.2.self_attn_layer_norm LayerNorm((1024,), eps=1e-05, elementwise_affine=True)\n",
      "model.encoder.layers.2.activation_fn ReLU()\n",
      "model.encoder.layers.2.fc1 Linear(in_features=1024, out_features=4096, bias=True)\n",
      "model.encoder.layers.2.fc2 Linear(in_features=4096, out_features=1024, bias=True)\n",
      "model.encoder.layers.2.final_layer_norm LayerNorm((1024,), eps=1e-05, elementwise_affine=True)\n",
      "model.encoder.layers.3 M2M100EncoderLayer(\n",
      "  (self_attn): M2M100SdpaAttention(\n",
      "    (k_proj): Linear(in_features=1024, out_features=1024, bias=True)\n",
      "    (v_proj): Linear(in_features=1024, out_features=1024, bias=True)\n",
      "    (q_proj): Linear(in_features=1024, out_features=1024, bias=True)\n",
      "    (out_proj): Linear(in_features=1024, out_features=1024, bias=True)\n",
      "  )\n",
      "  (self_attn_layer_norm): LayerNorm((1024,), eps=1e-05, elementwise_affine=True)\n",
      "  (activation_fn): ReLU()\n",
      "  (fc1): Linear(in_features=1024, out_features=4096, bias=True)\n",
      "  (fc2): Linear(in_features=4096, out_features=1024, bias=True)\n",
      "  (final_layer_norm): LayerNorm((1024,), eps=1e-05, elementwise_affine=True)\n",
      ")\n",
      "model.encoder.layers.3.self_attn M2M100SdpaAttention(\n",
      "  (k_proj): Linear(in_features=1024, out_features=1024, bias=True)\n",
      "  (v_proj): Linear(in_features=1024, out_features=1024, bias=True)\n",
      "  (q_proj): Linear(in_features=1024, out_features=1024, bias=True)\n",
      "  (out_proj): Linear(in_features=1024, out_features=1024, bias=True)\n",
      ")\n",
      "model.encoder.layers.3.self_attn.k_proj Linear(in_features=1024, out_features=1024, bias=True)\n",
      "model.encoder.layers.3.self_attn.v_proj Linear(in_features=1024, out_features=1024, bias=True)\n",
      "model.encoder.layers.3.self_attn.q_proj Linear(in_features=1024, out_features=1024, bias=True)\n",
      "model.encoder.layers.3.self_attn.out_proj Linear(in_features=1024, out_features=1024, bias=True)\n",
      "model.encoder.layers.3.self_attn_layer_norm LayerNorm((1024,), eps=1e-05, elementwise_affine=True)\n",
      "model.encoder.layers.3.activation_fn ReLU()\n",
      "model.encoder.layers.3.fc1 Linear(in_features=1024, out_features=4096, bias=True)\n",
      "model.encoder.layers.3.fc2 Linear(in_features=4096, out_features=1024, bias=True)\n",
      "model.encoder.layers.3.final_layer_norm LayerNorm((1024,), eps=1e-05, elementwise_affine=True)\n",
      "model.encoder.layers.4 M2M100EncoderLayer(\n",
      "  (self_attn): M2M100SdpaAttention(\n",
      "    (k_proj): Linear(in_features=1024, out_features=1024, bias=True)\n",
      "    (v_proj): Linear(in_features=1024, out_features=1024, bias=True)\n",
      "    (q_proj): Linear(in_features=1024, out_features=1024, bias=True)\n",
      "    (out_proj): Linear(in_features=1024, out_features=1024, bias=True)\n",
      "  )\n",
      "  (self_attn_layer_norm): LayerNorm((1024,), eps=1e-05, elementwise_affine=True)\n",
      "  (activation_fn): ReLU()\n",
      "  (fc1): Linear(in_features=1024, out_features=4096, bias=True)\n",
      "  (fc2): Linear(in_features=4096, out_features=1024, bias=True)\n",
      "  (final_layer_norm): LayerNorm((1024,), eps=1e-05, elementwise_affine=True)\n",
      ")\n",
      "model.encoder.layers.4.self_attn M2M100SdpaAttention(\n",
      "  (k_proj): Linear(in_features=1024, out_features=1024, bias=True)\n",
      "  (v_proj): Linear(in_features=1024, out_features=1024, bias=True)\n",
      "  (q_proj): Linear(in_features=1024, out_features=1024, bias=True)\n",
      "  (out_proj): Linear(in_features=1024, out_features=1024, bias=True)\n",
      ")\n",
      "model.encoder.layers.4.self_attn.k_proj Linear(in_features=1024, out_features=1024, bias=True)\n",
      "model.encoder.layers.4.self_attn.v_proj Linear(in_features=1024, out_features=1024, bias=True)\n",
      "model.encoder.layers.4.self_attn.q_proj Linear(in_features=1024, out_features=1024, bias=True)\n",
      "model.encoder.layers.4.self_attn.out_proj Linear(in_features=1024, out_features=1024, bias=True)\n",
      "model.encoder.layers.4.self_attn_layer_norm LayerNorm((1024,), eps=1e-05, elementwise_affine=True)\n",
      "model.encoder.layers.4.activation_fn ReLU()\n",
      "model.encoder.layers.4.fc1 Linear(in_features=1024, out_features=4096, bias=True)\n",
      "model.encoder.layers.4.fc2 Linear(in_features=4096, out_features=1024, bias=True)\n",
      "model.encoder.layers.4.final_layer_norm LayerNorm((1024,), eps=1e-05, elementwise_affine=True)\n",
      "model.encoder.layers.5 M2M100EncoderLayer(\n",
      "  (self_attn): M2M100SdpaAttention(\n",
      "    (k_proj): Linear(in_features=1024, out_features=1024, bias=True)\n",
      "    (v_proj): Linear(in_features=1024, out_features=1024, bias=True)\n",
      "    (q_proj): Linear(in_features=1024, out_features=1024, bias=True)\n",
      "    (out_proj): Linear(in_features=1024, out_features=1024, bias=True)\n",
      "  )\n",
      "  (self_attn_layer_norm): LayerNorm((1024,), eps=1e-05, elementwise_affine=True)\n",
      "  (activation_fn): ReLU()\n",
      "  (fc1): Linear(in_features=1024, out_features=4096, bias=True)\n",
      "  (fc2): Linear(in_features=4096, out_features=1024, bias=True)\n",
      "  (final_layer_norm): LayerNorm((1024,), eps=1e-05, elementwise_affine=True)\n",
      ")\n",
      "model.encoder.layers.5.self_attn M2M100SdpaAttention(\n",
      "  (k_proj): Linear(in_features=1024, out_features=1024, bias=True)\n",
      "  (v_proj): Linear(in_features=1024, out_features=1024, bias=True)\n",
      "  (q_proj): Linear(in_features=1024, out_features=1024, bias=True)\n",
      "  (out_proj): Linear(in_features=1024, out_features=1024, bias=True)\n",
      ")\n",
      "model.encoder.layers.5.self_attn.k_proj Linear(in_features=1024, out_features=1024, bias=True)\n",
      "model.encoder.layers.5.self_attn.v_proj Linear(in_features=1024, out_features=1024, bias=True)\n",
      "model.encoder.layers.5.self_attn.q_proj Linear(in_features=1024, out_features=1024, bias=True)\n",
      "model.encoder.layers.5.self_attn.out_proj Linear(in_features=1024, out_features=1024, bias=True)\n",
      "model.encoder.layers.5.self_attn_layer_norm LayerNorm((1024,), eps=1e-05, elementwise_affine=True)\n",
      "model.encoder.layers.5.activation_fn ReLU()\n",
      "model.encoder.layers.5.fc1 Linear(in_features=1024, out_features=4096, bias=True)\n",
      "model.encoder.layers.5.fc2 Linear(in_features=4096, out_features=1024, bias=True)\n",
      "model.encoder.layers.5.final_layer_norm LayerNorm((1024,), eps=1e-05, elementwise_affine=True)\n",
      "model.encoder.layers.6 M2M100EncoderLayer(\n",
      "  (self_attn): M2M100SdpaAttention(\n",
      "    (k_proj): Linear(in_features=1024, out_features=1024, bias=True)\n",
      "    (v_proj): Linear(in_features=1024, out_features=1024, bias=True)\n",
      "    (q_proj): Linear(in_features=1024, out_features=1024, bias=True)\n",
      "    (out_proj): Linear(in_features=1024, out_features=1024, bias=True)\n",
      "  )\n",
      "  (self_attn_layer_norm): LayerNorm((1024,), eps=1e-05, elementwise_affine=True)\n",
      "  (activation_fn): ReLU()\n",
      "  (fc1): Linear(in_features=1024, out_features=4096, bias=True)\n",
      "  (fc2): Linear(in_features=4096, out_features=1024, bias=True)\n",
      "  (final_layer_norm): LayerNorm((1024,), eps=1e-05, elementwise_affine=True)\n",
      ")\n",
      "model.encoder.layers.6.self_attn M2M100SdpaAttention(\n",
      "  (k_proj): Linear(in_features=1024, out_features=1024, bias=True)\n",
      "  (v_proj): Linear(in_features=1024, out_features=1024, bias=True)\n",
      "  (q_proj): Linear(in_features=1024, out_features=1024, bias=True)\n",
      "  (out_proj): Linear(in_features=1024, out_features=1024, bias=True)\n",
      ")\n",
      "model.encoder.layers.6.self_attn.k_proj Linear(in_features=1024, out_features=1024, bias=True)\n",
      "model.encoder.layers.6.self_attn.v_proj Linear(in_features=1024, out_features=1024, bias=True)\n",
      "model.encoder.layers.6.self_attn.q_proj Linear(in_features=1024, out_features=1024, bias=True)\n",
      "model.encoder.layers.6.self_attn.out_proj Linear(in_features=1024, out_features=1024, bias=True)\n",
      "model.encoder.layers.6.self_attn_layer_norm LayerNorm((1024,), eps=1e-05, elementwise_affine=True)\n",
      "model.encoder.layers.6.activation_fn ReLU()\n",
      "model.encoder.layers.6.fc1 Linear(in_features=1024, out_features=4096, bias=True)\n",
      "model.encoder.layers.6.fc2 Linear(in_features=4096, out_features=1024, bias=True)\n",
      "model.encoder.layers.6.final_layer_norm LayerNorm((1024,), eps=1e-05, elementwise_affine=True)\n",
      "model.encoder.layers.7 M2M100EncoderLayer(\n",
      "  (self_attn): M2M100SdpaAttention(\n",
      "    (k_proj): Linear(in_features=1024, out_features=1024, bias=True)\n",
      "    (v_proj): Linear(in_features=1024, out_features=1024, bias=True)\n",
      "    (q_proj): Linear(in_features=1024, out_features=1024, bias=True)\n",
      "    (out_proj): Linear(in_features=1024, out_features=1024, bias=True)\n",
      "  )\n",
      "  (self_attn_layer_norm): LayerNorm((1024,), eps=1e-05, elementwise_affine=True)\n",
      "  (activation_fn): ReLU()\n",
      "  (fc1): Linear(in_features=1024, out_features=4096, bias=True)\n",
      "  (fc2): Linear(in_features=4096, out_features=1024, bias=True)\n",
      "  (final_layer_norm): LayerNorm((1024,), eps=1e-05, elementwise_affine=True)\n",
      ")\n",
      "model.encoder.layers.7.self_attn M2M100SdpaAttention(\n",
      "  (k_proj): Linear(in_features=1024, out_features=1024, bias=True)\n",
      "  (v_proj): Linear(in_features=1024, out_features=1024, bias=True)\n",
      "  (q_proj): Linear(in_features=1024, out_features=1024, bias=True)\n",
      "  (out_proj): Linear(in_features=1024, out_features=1024, bias=True)\n",
      ")\n",
      "model.encoder.layers.7.self_attn.k_proj Linear(in_features=1024, out_features=1024, bias=True)\n",
      "model.encoder.layers.7.self_attn.v_proj Linear(in_features=1024, out_features=1024, bias=True)\n",
      "model.encoder.layers.7.self_attn.q_proj Linear(in_features=1024, out_features=1024, bias=True)\n",
      "model.encoder.layers.7.self_attn.out_proj Linear(in_features=1024, out_features=1024, bias=True)\n",
      "model.encoder.layers.7.self_attn_layer_norm LayerNorm((1024,), eps=1e-05, elementwise_affine=True)\n",
      "model.encoder.layers.7.activation_fn ReLU()\n",
      "model.encoder.layers.7.fc1 Linear(in_features=1024, out_features=4096, bias=True)\n",
      "model.encoder.layers.7.fc2 Linear(in_features=4096, out_features=1024, bias=True)\n",
      "model.encoder.layers.7.final_layer_norm LayerNorm((1024,), eps=1e-05, elementwise_affine=True)\n",
      "model.encoder.layers.8 M2M100EncoderLayer(\n",
      "  (self_attn): M2M100SdpaAttention(\n",
      "    (k_proj): Linear(in_features=1024, out_features=1024, bias=True)\n",
      "    (v_proj): Linear(in_features=1024, out_features=1024, bias=True)\n",
      "    (q_proj): Linear(in_features=1024, out_features=1024, bias=True)\n",
      "    (out_proj): Linear(in_features=1024, out_features=1024, bias=True)\n",
      "  )\n",
      "  (self_attn_layer_norm): LayerNorm((1024,), eps=1e-05, elementwise_affine=True)\n",
      "  (activation_fn): ReLU()\n",
      "  (fc1): Linear(in_features=1024, out_features=4096, bias=True)\n",
      "  (fc2): Linear(in_features=4096, out_features=1024, bias=True)\n",
      "  (final_layer_norm): LayerNorm((1024,), eps=1e-05, elementwise_affine=True)\n",
      ")\n",
      "model.encoder.layers.8.self_attn M2M100SdpaAttention(\n",
      "  (k_proj): Linear(in_features=1024, out_features=1024, bias=True)\n",
      "  (v_proj): Linear(in_features=1024, out_features=1024, bias=True)\n",
      "  (q_proj): Linear(in_features=1024, out_features=1024, bias=True)\n",
      "  (out_proj): Linear(in_features=1024, out_features=1024, bias=True)\n",
      ")\n",
      "model.encoder.layers.8.self_attn.k_proj Linear(in_features=1024, out_features=1024, bias=True)\n",
      "model.encoder.layers.8.self_attn.v_proj Linear(in_features=1024, out_features=1024, bias=True)\n",
      "model.encoder.layers.8.self_attn.q_proj Linear(in_features=1024, out_features=1024, bias=True)\n",
      "model.encoder.layers.8.self_attn.out_proj Linear(in_features=1024, out_features=1024, bias=True)\n",
      "model.encoder.layers.8.self_attn_layer_norm LayerNorm((1024,), eps=1e-05, elementwise_affine=True)\n",
      "model.encoder.layers.8.activation_fn ReLU()\n",
      "model.encoder.layers.8.fc1 Linear(in_features=1024, out_features=4096, bias=True)\n",
      "model.encoder.layers.8.fc2 Linear(in_features=4096, out_features=1024, bias=True)\n",
      "model.encoder.layers.8.final_layer_norm LayerNorm((1024,), eps=1e-05, elementwise_affine=True)\n",
      "model.encoder.layers.9 M2M100EncoderLayer(\n",
      "  (self_attn): M2M100SdpaAttention(\n",
      "    (k_proj): Linear(in_features=1024, out_features=1024, bias=True)\n",
      "    (v_proj): Linear(in_features=1024, out_features=1024, bias=True)\n",
      "    (q_proj): Linear(in_features=1024, out_features=1024, bias=True)\n",
      "    (out_proj): Linear(in_features=1024, out_features=1024, bias=True)\n",
      "  )\n",
      "  (self_attn_layer_norm): LayerNorm((1024,), eps=1e-05, elementwise_affine=True)\n",
      "  (activation_fn): ReLU()\n",
      "  (fc1): Linear(in_features=1024, out_features=4096, bias=True)\n",
      "  (fc2): Linear(in_features=4096, out_features=1024, bias=True)\n",
      "  (final_layer_norm): LayerNorm((1024,), eps=1e-05, elementwise_affine=True)\n",
      ")\n",
      "model.encoder.layers.9.self_attn M2M100SdpaAttention(\n",
      "  (k_proj): Linear(in_features=1024, out_features=1024, bias=True)\n",
      "  (v_proj): Linear(in_features=1024, out_features=1024, bias=True)\n",
      "  (q_proj): Linear(in_features=1024, out_features=1024, bias=True)\n",
      "  (out_proj): Linear(in_features=1024, out_features=1024, bias=True)\n",
      ")\n",
      "model.encoder.layers.9.self_attn.k_proj Linear(in_features=1024, out_features=1024, bias=True)\n",
      "model.encoder.layers.9.self_attn.v_proj Linear(in_features=1024, out_features=1024, bias=True)\n",
      "model.encoder.layers.9.self_attn.q_proj Linear(in_features=1024, out_features=1024, bias=True)\n",
      "model.encoder.layers.9.self_attn.out_proj Linear(in_features=1024, out_features=1024, bias=True)\n",
      "model.encoder.layers.9.self_attn_layer_norm LayerNorm((1024,), eps=1e-05, elementwise_affine=True)\n",
      "model.encoder.layers.9.activation_fn ReLU()\n",
      "model.encoder.layers.9.fc1 Linear(in_features=1024, out_features=4096, bias=True)\n",
      "model.encoder.layers.9.fc2 Linear(in_features=4096, out_features=1024, bias=True)\n",
      "model.encoder.layers.9.final_layer_norm LayerNorm((1024,), eps=1e-05, elementwise_affine=True)\n",
      "model.encoder.layers.10 M2M100EncoderLayer(\n",
      "  (self_attn): M2M100SdpaAttention(\n",
      "    (k_proj): Linear(in_features=1024, out_features=1024, bias=True)\n",
      "    (v_proj): Linear(in_features=1024, out_features=1024, bias=True)\n",
      "    (q_proj): Linear(in_features=1024, out_features=1024, bias=True)\n",
      "    (out_proj): Linear(in_features=1024, out_features=1024, bias=True)\n",
      "  )\n",
      "  (self_attn_layer_norm): LayerNorm((1024,), eps=1e-05, elementwise_affine=True)\n",
      "  (activation_fn): ReLU()\n",
      "  (fc1): Linear(in_features=1024, out_features=4096, bias=True)\n",
      "  (fc2): Linear(in_features=4096, out_features=1024, bias=True)\n",
      "  (final_layer_norm): LayerNorm((1024,), eps=1e-05, elementwise_affine=True)\n",
      ")\n",
      "model.encoder.layers.10.self_attn M2M100SdpaAttention(\n",
      "  (k_proj): Linear(in_features=1024, out_features=1024, bias=True)\n",
      "  (v_proj): Linear(in_features=1024, out_features=1024, bias=True)\n",
      "  (q_proj): Linear(in_features=1024, out_features=1024, bias=True)\n",
      "  (out_proj): Linear(in_features=1024, out_features=1024, bias=True)\n",
      ")\n",
      "model.encoder.layers.10.self_attn.k_proj Linear(in_features=1024, out_features=1024, bias=True)\n",
      "model.encoder.layers.10.self_attn.v_proj Linear(in_features=1024, out_features=1024, bias=True)\n",
      "model.encoder.layers.10.self_attn.q_proj Linear(in_features=1024, out_features=1024, bias=True)\n",
      "model.encoder.layers.10.self_attn.out_proj Linear(in_features=1024, out_features=1024, bias=True)\n",
      "model.encoder.layers.10.self_attn_layer_norm LayerNorm((1024,), eps=1e-05, elementwise_affine=True)\n",
      "model.encoder.layers.10.activation_fn ReLU()\n",
      "model.encoder.layers.10.fc1 Linear(in_features=1024, out_features=4096, bias=True)\n",
      "model.encoder.layers.10.fc2 Linear(in_features=4096, out_features=1024, bias=True)\n",
      "model.encoder.layers.10.final_layer_norm LayerNorm((1024,), eps=1e-05, elementwise_affine=True)\n",
      "model.encoder.layers.11 M2M100EncoderLayer(\n",
      "  (self_attn): M2M100SdpaAttention(\n",
      "    (k_proj): Linear(in_features=1024, out_features=1024, bias=True)\n",
      "    (v_proj): Linear(in_features=1024, out_features=1024, bias=True)\n",
      "    (q_proj): Linear(in_features=1024, out_features=1024, bias=True)\n",
      "    (out_proj): Linear(in_features=1024, out_features=1024, bias=True)\n",
      "  )\n",
      "  (self_attn_layer_norm): LayerNorm((1024,), eps=1e-05, elementwise_affine=True)\n",
      "  (activation_fn): ReLU()\n",
      "  (fc1): Linear(in_features=1024, out_features=4096, bias=True)\n",
      "  (fc2): Linear(in_features=4096, out_features=1024, bias=True)\n",
      "  (final_layer_norm): LayerNorm((1024,), eps=1e-05, elementwise_affine=True)\n",
      ")\n",
      "model.encoder.layers.11.self_attn M2M100SdpaAttention(\n",
      "  (k_proj): Linear(in_features=1024, out_features=1024, bias=True)\n",
      "  (v_proj): Linear(in_features=1024, out_features=1024, bias=True)\n",
      "  (q_proj): Linear(in_features=1024, out_features=1024, bias=True)\n",
      "  (out_proj): Linear(in_features=1024, out_features=1024, bias=True)\n",
      ")\n",
      "model.encoder.layers.11.self_attn.k_proj Linear(in_features=1024, out_features=1024, bias=True)\n",
      "model.encoder.layers.11.self_attn.v_proj Linear(in_features=1024, out_features=1024, bias=True)\n",
      "model.encoder.layers.11.self_attn.q_proj Linear(in_features=1024, out_features=1024, bias=True)\n",
      "model.encoder.layers.11.self_attn.out_proj Linear(in_features=1024, out_features=1024, bias=True)\n",
      "model.encoder.layers.11.self_attn_layer_norm LayerNorm((1024,), eps=1e-05, elementwise_affine=True)\n",
      "model.encoder.layers.11.activation_fn ReLU()\n",
      "model.encoder.layers.11.fc1 Linear(in_features=1024, out_features=4096, bias=True)\n",
      "model.encoder.layers.11.fc2 Linear(in_features=4096, out_features=1024, bias=True)\n",
      "model.encoder.layers.11.final_layer_norm LayerNorm((1024,), eps=1e-05, elementwise_affine=True)\n",
      "model.encoder.layer_norm LayerNorm((1024,), eps=1e-05, elementwise_affine=True)\n",
      "model.decoder M2M100Decoder(\n",
      "  (embed_tokens): M2M100ScaledWordEmbedding(128112, 1024, padding_idx=1)\n",
      "  (embed_positions): M2M100SinusoidalPositionalEmbedding()\n",
      "  (layers): ModuleList(\n",
      "    (0-11): 12 x M2M100DecoderLayer(\n",
      "      (self_attn): M2M100SdpaAttention(\n",
      "        (k_proj): Linear(in_features=1024, out_features=1024, bias=True)\n",
      "        (v_proj): Linear(in_features=1024, out_features=1024, bias=True)\n",
      "        (q_proj): Linear(in_features=1024, out_features=1024, bias=True)\n",
      "        (out_proj): Linear(in_features=1024, out_features=1024, bias=True)\n",
      "      )\n",
      "      (activation_fn): ReLU()\n",
      "      (self_attn_layer_norm): LayerNorm((1024,), eps=1e-05, elementwise_affine=True)\n",
      "      (encoder_attn): M2M100SdpaAttention(\n",
      "        (k_proj): Linear(in_features=1024, out_features=1024, bias=True)\n",
      "        (v_proj): Linear(in_features=1024, out_features=1024, bias=True)\n",
      "        (q_proj): Linear(in_features=1024, out_features=1024, bias=True)\n",
      "        (out_proj): Linear(in_features=1024, out_features=1024, bias=True)\n",
      "      )\n",
      "      (encoder_attn_layer_norm): LayerNorm((1024,), eps=1e-05, elementwise_affine=True)\n",
      "      (fc1): Linear(in_features=1024, out_features=4096, bias=True)\n",
      "      (fc2): Linear(in_features=4096, out_features=1024, bias=True)\n",
      "      (final_layer_norm): LayerNorm((1024,), eps=1e-05, elementwise_affine=True)\n",
      "    )\n",
      "  )\n",
      "  (layer_norm): LayerNorm((1024,), eps=1e-05, elementwise_affine=True)\n",
      ")\n",
      "model.decoder.embed_tokens M2M100ScaledWordEmbedding(128112, 1024, padding_idx=1)\n",
      "model.decoder.embed_positions M2M100SinusoidalPositionalEmbedding()\n",
      "model.decoder.layers ModuleList(\n",
      "  (0-11): 12 x M2M100DecoderLayer(\n",
      "    (self_attn): M2M100SdpaAttention(\n",
      "      (k_proj): Linear(in_features=1024, out_features=1024, bias=True)\n",
      "      (v_proj): Linear(in_features=1024, out_features=1024, bias=True)\n",
      "      (q_proj): Linear(in_features=1024, out_features=1024, bias=True)\n",
      "      (out_proj): Linear(in_features=1024, out_features=1024, bias=True)\n",
      "    )\n",
      "    (activation_fn): ReLU()\n",
      "    (self_attn_layer_norm): LayerNorm((1024,), eps=1e-05, elementwise_affine=True)\n",
      "    (encoder_attn): M2M100SdpaAttention(\n",
      "      (k_proj): Linear(in_features=1024, out_features=1024, bias=True)\n",
      "      (v_proj): Linear(in_features=1024, out_features=1024, bias=True)\n",
      "      (q_proj): Linear(in_features=1024, out_features=1024, bias=True)\n",
      "      (out_proj): Linear(in_features=1024, out_features=1024, bias=True)\n",
      "    )\n",
      "    (encoder_attn_layer_norm): LayerNorm((1024,), eps=1e-05, elementwise_affine=True)\n",
      "    (fc1): Linear(in_features=1024, out_features=4096, bias=True)\n",
      "    (fc2): Linear(in_features=4096, out_features=1024, bias=True)\n",
      "    (final_layer_norm): LayerNorm((1024,), eps=1e-05, elementwise_affine=True)\n",
      "  )\n",
      ")\n",
      "model.decoder.layers.0 M2M100DecoderLayer(\n",
      "  (self_attn): M2M100SdpaAttention(\n",
      "    (k_proj): Linear(in_features=1024, out_features=1024, bias=True)\n",
      "    (v_proj): Linear(in_features=1024, out_features=1024, bias=True)\n",
      "    (q_proj): Linear(in_features=1024, out_features=1024, bias=True)\n",
      "    (out_proj): Linear(in_features=1024, out_features=1024, bias=True)\n",
      "  )\n",
      "  (activation_fn): ReLU()\n",
      "  (self_attn_layer_norm): LayerNorm((1024,), eps=1e-05, elementwise_affine=True)\n",
      "  (encoder_attn): M2M100SdpaAttention(\n",
      "    (k_proj): Linear(in_features=1024, out_features=1024, bias=True)\n",
      "    (v_proj): Linear(in_features=1024, out_features=1024, bias=True)\n",
      "    (q_proj): Linear(in_features=1024, out_features=1024, bias=True)\n",
      "    (out_proj): Linear(in_features=1024, out_features=1024, bias=True)\n",
      "  )\n",
      "  (encoder_attn_layer_norm): LayerNorm((1024,), eps=1e-05, elementwise_affine=True)\n",
      "  (fc1): Linear(in_features=1024, out_features=4096, bias=True)\n",
      "  (fc2): Linear(in_features=4096, out_features=1024, bias=True)\n",
      "  (final_layer_norm): LayerNorm((1024,), eps=1e-05, elementwise_affine=True)\n",
      ")\n",
      "model.decoder.layers.0.self_attn M2M100SdpaAttention(\n",
      "  (k_proj): Linear(in_features=1024, out_features=1024, bias=True)\n",
      "  (v_proj): Linear(in_features=1024, out_features=1024, bias=True)\n",
      "  (q_proj): Linear(in_features=1024, out_features=1024, bias=True)\n",
      "  (out_proj): Linear(in_features=1024, out_features=1024, bias=True)\n",
      ")\n",
      "model.decoder.layers.0.self_attn.k_proj Linear(in_features=1024, out_features=1024, bias=True)\n",
      "model.decoder.layers.0.self_attn.v_proj Linear(in_features=1024, out_features=1024, bias=True)\n",
      "model.decoder.layers.0.self_attn.q_proj Linear(in_features=1024, out_features=1024, bias=True)\n",
      "model.decoder.layers.0.self_attn.out_proj Linear(in_features=1024, out_features=1024, bias=True)\n",
      "model.decoder.layers.0.activation_fn ReLU()\n",
      "model.decoder.layers.0.self_attn_layer_norm LayerNorm((1024,), eps=1e-05, elementwise_affine=True)\n",
      "model.decoder.layers.0.encoder_attn M2M100SdpaAttention(\n",
      "  (k_proj): Linear(in_features=1024, out_features=1024, bias=True)\n",
      "  (v_proj): Linear(in_features=1024, out_features=1024, bias=True)\n",
      "  (q_proj): Linear(in_features=1024, out_features=1024, bias=True)\n",
      "  (out_proj): Linear(in_features=1024, out_features=1024, bias=True)\n",
      ")\n",
      "model.decoder.layers.0.encoder_attn.k_proj Linear(in_features=1024, out_features=1024, bias=True)\n",
      "model.decoder.layers.0.encoder_attn.v_proj Linear(in_features=1024, out_features=1024, bias=True)\n",
      "model.decoder.layers.0.encoder_attn.q_proj Linear(in_features=1024, out_features=1024, bias=True)\n",
      "model.decoder.layers.0.encoder_attn.out_proj Linear(in_features=1024, out_features=1024, bias=True)\n",
      "model.decoder.layers.0.encoder_attn_layer_norm LayerNorm((1024,), eps=1e-05, elementwise_affine=True)\n",
      "model.decoder.layers.0.fc1 Linear(in_features=1024, out_features=4096, bias=True)\n",
      "model.decoder.layers.0.fc2 Linear(in_features=4096, out_features=1024, bias=True)\n",
      "model.decoder.layers.0.final_layer_norm LayerNorm((1024,), eps=1e-05, elementwise_affine=True)\n",
      "model.decoder.layers.1 M2M100DecoderLayer(\n",
      "  (self_attn): M2M100SdpaAttention(\n",
      "    (k_proj): Linear(in_features=1024, out_features=1024, bias=True)\n",
      "    (v_proj): Linear(in_features=1024, out_features=1024, bias=True)\n",
      "    (q_proj): Linear(in_features=1024, out_features=1024, bias=True)\n",
      "    (out_proj): Linear(in_features=1024, out_features=1024, bias=True)\n",
      "  )\n",
      "  (activation_fn): ReLU()\n",
      "  (self_attn_layer_norm): LayerNorm((1024,), eps=1e-05, elementwise_affine=True)\n",
      "  (encoder_attn): M2M100SdpaAttention(\n",
      "    (k_proj): Linear(in_features=1024, out_features=1024, bias=True)\n",
      "    (v_proj): Linear(in_features=1024, out_features=1024, bias=True)\n",
      "    (q_proj): Linear(in_features=1024, out_features=1024, bias=True)\n",
      "    (out_proj): Linear(in_features=1024, out_features=1024, bias=True)\n",
      "  )\n",
      "  (encoder_attn_layer_norm): LayerNorm((1024,), eps=1e-05, elementwise_affine=True)\n",
      "  (fc1): Linear(in_features=1024, out_features=4096, bias=True)\n",
      "  (fc2): Linear(in_features=4096, out_features=1024, bias=True)\n",
      "  (final_layer_norm): LayerNorm((1024,), eps=1e-05, elementwise_affine=True)\n",
      ")\n",
      "model.decoder.layers.1.self_attn M2M100SdpaAttention(\n",
      "  (k_proj): Linear(in_features=1024, out_features=1024, bias=True)\n",
      "  (v_proj): Linear(in_features=1024, out_features=1024, bias=True)\n",
      "  (q_proj): Linear(in_features=1024, out_features=1024, bias=True)\n",
      "  (out_proj): Linear(in_features=1024, out_features=1024, bias=True)\n",
      ")\n",
      "model.decoder.layers.1.self_attn.k_proj Linear(in_features=1024, out_features=1024, bias=True)\n",
      "model.decoder.layers.1.self_attn.v_proj Linear(in_features=1024, out_features=1024, bias=True)\n",
      "model.decoder.layers.1.self_attn.q_proj Linear(in_features=1024, out_features=1024, bias=True)\n",
      "model.decoder.layers.1.self_attn.out_proj Linear(in_features=1024, out_features=1024, bias=True)\n",
      "model.decoder.layers.1.activation_fn ReLU()\n",
      "model.decoder.layers.1.self_attn_layer_norm LayerNorm((1024,), eps=1e-05, elementwise_affine=True)\n",
      "model.decoder.layers.1.encoder_attn M2M100SdpaAttention(\n",
      "  (k_proj): Linear(in_features=1024, out_features=1024, bias=True)\n",
      "  (v_proj): Linear(in_features=1024, out_features=1024, bias=True)\n",
      "  (q_proj): Linear(in_features=1024, out_features=1024, bias=True)\n",
      "  (out_proj): Linear(in_features=1024, out_features=1024, bias=True)\n",
      ")\n",
      "model.decoder.layers.1.encoder_attn.k_proj Linear(in_features=1024, out_features=1024, bias=True)\n",
      "model.decoder.layers.1.encoder_attn.v_proj Linear(in_features=1024, out_features=1024, bias=True)\n",
      "model.decoder.layers.1.encoder_attn.q_proj Linear(in_features=1024, out_features=1024, bias=True)\n",
      "model.decoder.layers.1.encoder_attn.out_proj Linear(in_features=1024, out_features=1024, bias=True)\n",
      "model.decoder.layers.1.encoder_attn_layer_norm LayerNorm((1024,), eps=1e-05, elementwise_affine=True)\n",
      "model.decoder.layers.1.fc1 Linear(in_features=1024, out_features=4096, bias=True)\n",
      "model.decoder.layers.1.fc2 Linear(in_features=4096, out_features=1024, bias=True)\n",
      "model.decoder.layers.1.final_layer_norm LayerNorm((1024,), eps=1e-05, elementwise_affine=True)\n",
      "model.decoder.layers.2 M2M100DecoderLayer(\n",
      "  (self_attn): M2M100SdpaAttention(\n",
      "    (k_proj): Linear(in_features=1024, out_features=1024, bias=True)\n",
      "    (v_proj): Linear(in_features=1024, out_features=1024, bias=True)\n",
      "    (q_proj): Linear(in_features=1024, out_features=1024, bias=True)\n",
      "    (out_proj): Linear(in_features=1024, out_features=1024, bias=True)\n",
      "  )\n",
      "  (activation_fn): ReLU()\n",
      "  (self_attn_layer_norm): LayerNorm((1024,), eps=1e-05, elementwise_affine=True)\n",
      "  (encoder_attn): M2M100SdpaAttention(\n",
      "    (k_proj): Linear(in_features=1024, out_features=1024, bias=True)\n",
      "    (v_proj): Linear(in_features=1024, out_features=1024, bias=True)\n",
      "    (q_proj): Linear(in_features=1024, out_features=1024, bias=True)\n",
      "    (out_proj): Linear(in_features=1024, out_features=1024, bias=True)\n",
      "  )\n",
      "  (encoder_attn_layer_norm): LayerNorm((1024,), eps=1e-05, elementwise_affine=True)\n",
      "  (fc1): Linear(in_features=1024, out_features=4096, bias=True)\n",
      "  (fc2): Linear(in_features=4096, out_features=1024, bias=True)\n",
      "  (final_layer_norm): LayerNorm((1024,), eps=1e-05, elementwise_affine=True)\n",
      ")\n",
      "model.decoder.layers.2.self_attn M2M100SdpaAttention(\n",
      "  (k_proj): Linear(in_features=1024, out_features=1024, bias=True)\n",
      "  (v_proj): Linear(in_features=1024, out_features=1024, bias=True)\n",
      "  (q_proj): Linear(in_features=1024, out_features=1024, bias=True)\n",
      "  (out_proj): Linear(in_features=1024, out_features=1024, bias=True)\n",
      ")\n",
      "model.decoder.layers.2.self_attn.k_proj Linear(in_features=1024, out_features=1024, bias=True)\n",
      "model.decoder.layers.2.self_attn.v_proj Linear(in_features=1024, out_features=1024, bias=True)\n",
      "model.decoder.layers.2.self_attn.q_proj Linear(in_features=1024, out_features=1024, bias=True)\n",
      "model.decoder.layers.2.self_attn.out_proj Linear(in_features=1024, out_features=1024, bias=True)\n",
      "model.decoder.layers.2.activation_fn ReLU()\n",
      "model.decoder.layers.2.self_attn_layer_norm LayerNorm((1024,), eps=1e-05, elementwise_affine=True)\n",
      "model.decoder.layers.2.encoder_attn M2M100SdpaAttention(\n",
      "  (k_proj): Linear(in_features=1024, out_features=1024, bias=True)\n",
      "  (v_proj): Linear(in_features=1024, out_features=1024, bias=True)\n",
      "  (q_proj): Linear(in_features=1024, out_features=1024, bias=True)\n",
      "  (out_proj): Linear(in_features=1024, out_features=1024, bias=True)\n",
      ")\n",
      "model.decoder.layers.2.encoder_attn.k_proj Linear(in_features=1024, out_features=1024, bias=True)\n",
      "model.decoder.layers.2.encoder_attn.v_proj Linear(in_features=1024, out_features=1024, bias=True)\n",
      "model.decoder.layers.2.encoder_attn.q_proj Linear(in_features=1024, out_features=1024, bias=True)\n",
      "model.decoder.layers.2.encoder_attn.out_proj Linear(in_features=1024, out_features=1024, bias=True)\n",
      "model.decoder.layers.2.encoder_attn_layer_norm LayerNorm((1024,), eps=1e-05, elementwise_affine=True)\n",
      "model.decoder.layers.2.fc1 Linear(in_features=1024, out_features=4096, bias=True)\n",
      "model.decoder.layers.2.fc2 Linear(in_features=4096, out_features=1024, bias=True)\n",
      "model.decoder.layers.2.final_layer_norm LayerNorm((1024,), eps=1e-05, elementwise_affine=True)\n",
      "model.decoder.layers.3 M2M100DecoderLayer(\n",
      "  (self_attn): M2M100SdpaAttention(\n",
      "    (k_proj): Linear(in_features=1024, out_features=1024, bias=True)\n",
      "    (v_proj): Linear(in_features=1024, out_features=1024, bias=True)\n",
      "    (q_proj): Linear(in_features=1024, out_features=1024, bias=True)\n",
      "    (out_proj): Linear(in_features=1024, out_features=1024, bias=True)\n",
      "  )\n",
      "  (activation_fn): ReLU()\n",
      "  (self_attn_layer_norm): LayerNorm((1024,), eps=1e-05, elementwise_affine=True)\n",
      "  (encoder_attn): M2M100SdpaAttention(\n",
      "    (k_proj): Linear(in_features=1024, out_features=1024, bias=True)\n",
      "    (v_proj): Linear(in_features=1024, out_features=1024, bias=True)\n",
      "    (q_proj): Linear(in_features=1024, out_features=1024, bias=True)\n",
      "    (out_proj): Linear(in_features=1024, out_features=1024, bias=True)\n",
      "  )\n",
      "  (encoder_attn_layer_norm): LayerNorm((1024,), eps=1e-05, elementwise_affine=True)\n",
      "  (fc1): Linear(in_features=1024, out_features=4096, bias=True)\n",
      "  (fc2): Linear(in_features=4096, out_features=1024, bias=True)\n",
      "  (final_layer_norm): LayerNorm((1024,), eps=1e-05, elementwise_affine=True)\n",
      ")\n",
      "model.decoder.layers.3.self_attn M2M100SdpaAttention(\n",
      "  (k_proj): Linear(in_features=1024, out_features=1024, bias=True)\n",
      "  (v_proj): Linear(in_features=1024, out_features=1024, bias=True)\n",
      "  (q_proj): Linear(in_features=1024, out_features=1024, bias=True)\n",
      "  (out_proj): Linear(in_features=1024, out_features=1024, bias=True)\n",
      ")\n",
      "model.decoder.layers.3.self_attn.k_proj Linear(in_features=1024, out_features=1024, bias=True)\n",
      "model.decoder.layers.3.self_attn.v_proj Linear(in_features=1024, out_features=1024, bias=True)\n",
      "model.decoder.layers.3.self_attn.q_proj Linear(in_features=1024, out_features=1024, bias=True)\n",
      "model.decoder.layers.3.self_attn.out_proj Linear(in_features=1024, out_features=1024, bias=True)\n",
      "model.decoder.layers.3.activation_fn ReLU()\n",
      "model.decoder.layers.3.self_attn_layer_norm LayerNorm((1024,), eps=1e-05, elementwise_affine=True)\n",
      "model.decoder.layers.3.encoder_attn M2M100SdpaAttention(\n",
      "  (k_proj): Linear(in_features=1024, out_features=1024, bias=True)\n",
      "  (v_proj): Linear(in_features=1024, out_features=1024, bias=True)\n",
      "  (q_proj): Linear(in_features=1024, out_features=1024, bias=True)\n",
      "  (out_proj): Linear(in_features=1024, out_features=1024, bias=True)\n",
      ")\n",
      "model.decoder.layers.3.encoder_attn.k_proj Linear(in_features=1024, out_features=1024, bias=True)\n",
      "model.decoder.layers.3.encoder_attn.v_proj Linear(in_features=1024, out_features=1024, bias=True)\n",
      "model.decoder.layers.3.encoder_attn.q_proj Linear(in_features=1024, out_features=1024, bias=True)\n",
      "model.decoder.layers.3.encoder_attn.out_proj Linear(in_features=1024, out_features=1024, bias=True)\n",
      "model.decoder.layers.3.encoder_attn_layer_norm LayerNorm((1024,), eps=1e-05, elementwise_affine=True)\n",
      "model.decoder.layers.3.fc1 Linear(in_features=1024, out_features=4096, bias=True)\n",
      "model.decoder.layers.3.fc2 Linear(in_features=4096, out_features=1024, bias=True)\n",
      "model.decoder.layers.3.final_layer_norm LayerNorm((1024,), eps=1e-05, elementwise_affine=True)\n",
      "model.decoder.layers.4 M2M100DecoderLayer(\n",
      "  (self_attn): M2M100SdpaAttention(\n",
      "    (k_proj): Linear(in_features=1024, out_features=1024, bias=True)\n",
      "    (v_proj): Linear(in_features=1024, out_features=1024, bias=True)\n",
      "    (q_proj): Linear(in_features=1024, out_features=1024, bias=True)\n",
      "    (out_proj): Linear(in_features=1024, out_features=1024, bias=True)\n",
      "  )\n",
      "  (activation_fn): ReLU()\n",
      "  (self_attn_layer_norm): LayerNorm((1024,), eps=1e-05, elementwise_affine=True)\n",
      "  (encoder_attn): M2M100SdpaAttention(\n",
      "    (k_proj): Linear(in_features=1024, out_features=1024, bias=True)\n",
      "    (v_proj): Linear(in_features=1024, out_features=1024, bias=True)\n",
      "    (q_proj): Linear(in_features=1024, out_features=1024, bias=True)\n",
      "    (out_proj): Linear(in_features=1024, out_features=1024, bias=True)\n",
      "  )\n",
      "  (encoder_attn_layer_norm): LayerNorm((1024,), eps=1e-05, elementwise_affine=True)\n",
      "  (fc1): Linear(in_features=1024, out_features=4096, bias=True)\n",
      "  (fc2): Linear(in_features=4096, out_features=1024, bias=True)\n",
      "  (final_layer_norm): LayerNorm((1024,), eps=1e-05, elementwise_affine=True)\n",
      ")\n",
      "model.decoder.layers.4.self_attn M2M100SdpaAttention(\n",
      "  (k_proj): Linear(in_features=1024, out_features=1024, bias=True)\n",
      "  (v_proj): Linear(in_features=1024, out_features=1024, bias=True)\n",
      "  (q_proj): Linear(in_features=1024, out_features=1024, bias=True)\n",
      "  (out_proj): Linear(in_features=1024, out_features=1024, bias=True)\n",
      ")\n",
      "model.decoder.layers.4.self_attn.k_proj Linear(in_features=1024, out_features=1024, bias=True)\n",
      "model.decoder.layers.4.self_attn.v_proj Linear(in_features=1024, out_features=1024, bias=True)\n",
      "model.decoder.layers.4.self_attn.q_proj Linear(in_features=1024, out_features=1024, bias=True)\n",
      "model.decoder.layers.4.self_attn.out_proj Linear(in_features=1024, out_features=1024, bias=True)\n",
      "model.decoder.layers.4.activation_fn ReLU()\n",
      "model.decoder.layers.4.self_attn_layer_norm LayerNorm((1024,), eps=1e-05, elementwise_affine=True)\n",
      "model.decoder.layers.4.encoder_attn M2M100SdpaAttention(\n",
      "  (k_proj): Linear(in_features=1024, out_features=1024, bias=True)\n",
      "  (v_proj): Linear(in_features=1024, out_features=1024, bias=True)\n",
      "  (q_proj): Linear(in_features=1024, out_features=1024, bias=True)\n",
      "  (out_proj): Linear(in_features=1024, out_features=1024, bias=True)\n",
      ")\n",
      "model.decoder.layers.4.encoder_attn.k_proj Linear(in_features=1024, out_features=1024, bias=True)\n",
      "model.decoder.layers.4.encoder_attn.v_proj Linear(in_features=1024, out_features=1024, bias=True)\n",
      "model.decoder.layers.4.encoder_attn.q_proj Linear(in_features=1024, out_features=1024, bias=True)\n",
      "model.decoder.layers.4.encoder_attn.out_proj Linear(in_features=1024, out_features=1024, bias=True)\n",
      "model.decoder.layers.4.encoder_attn_layer_norm LayerNorm((1024,), eps=1e-05, elementwise_affine=True)\n",
      "model.decoder.layers.4.fc1 Linear(in_features=1024, out_features=4096, bias=True)\n",
      "model.decoder.layers.4.fc2 Linear(in_features=4096, out_features=1024, bias=True)\n",
      "model.decoder.layers.4.final_layer_norm LayerNorm((1024,), eps=1e-05, elementwise_affine=True)\n",
      "model.decoder.layers.5 M2M100DecoderLayer(\n",
      "  (self_attn): M2M100SdpaAttention(\n",
      "    (k_proj): Linear(in_features=1024, out_features=1024, bias=True)\n",
      "    (v_proj): Linear(in_features=1024, out_features=1024, bias=True)\n",
      "    (q_proj): Linear(in_features=1024, out_features=1024, bias=True)\n",
      "    (out_proj): Linear(in_features=1024, out_features=1024, bias=True)\n",
      "  )\n",
      "  (activation_fn): ReLU()\n",
      "  (self_attn_layer_norm): LayerNorm((1024,), eps=1e-05, elementwise_affine=True)\n",
      "  (encoder_attn): M2M100SdpaAttention(\n",
      "    (k_proj): Linear(in_features=1024, out_features=1024, bias=True)\n",
      "    (v_proj): Linear(in_features=1024, out_features=1024, bias=True)\n",
      "    (q_proj): Linear(in_features=1024, out_features=1024, bias=True)\n",
      "    (out_proj): Linear(in_features=1024, out_features=1024, bias=True)\n",
      "  )\n",
      "  (encoder_attn_layer_norm): LayerNorm((1024,), eps=1e-05, elementwise_affine=True)\n",
      "  (fc1): Linear(in_features=1024, out_features=4096, bias=True)\n",
      "  (fc2): Linear(in_features=4096, out_features=1024, bias=True)\n",
      "  (final_layer_norm): LayerNorm((1024,), eps=1e-05, elementwise_affine=True)\n",
      ")\n",
      "model.decoder.layers.5.self_attn M2M100SdpaAttention(\n",
      "  (k_proj): Linear(in_features=1024, out_features=1024, bias=True)\n",
      "  (v_proj): Linear(in_features=1024, out_features=1024, bias=True)\n",
      "  (q_proj): Linear(in_features=1024, out_features=1024, bias=True)\n",
      "  (out_proj): Linear(in_features=1024, out_features=1024, bias=True)\n",
      ")\n",
      "model.decoder.layers.5.self_attn.k_proj Linear(in_features=1024, out_features=1024, bias=True)\n",
      "model.decoder.layers.5.self_attn.v_proj Linear(in_features=1024, out_features=1024, bias=True)\n",
      "model.decoder.layers.5.self_attn.q_proj Linear(in_features=1024, out_features=1024, bias=True)\n",
      "model.decoder.layers.5.self_attn.out_proj Linear(in_features=1024, out_features=1024, bias=True)\n",
      "model.decoder.layers.5.activation_fn ReLU()\n",
      "model.decoder.layers.5.self_attn_layer_norm LayerNorm((1024,), eps=1e-05, elementwise_affine=True)\n",
      "model.decoder.layers.5.encoder_attn M2M100SdpaAttention(\n",
      "  (k_proj): Linear(in_features=1024, out_features=1024, bias=True)\n",
      "  (v_proj): Linear(in_features=1024, out_features=1024, bias=True)\n",
      "  (q_proj): Linear(in_features=1024, out_features=1024, bias=True)\n",
      "  (out_proj): Linear(in_features=1024, out_features=1024, bias=True)\n",
      ")\n",
      "model.decoder.layers.5.encoder_attn.k_proj Linear(in_features=1024, out_features=1024, bias=True)\n",
      "model.decoder.layers.5.encoder_attn.v_proj Linear(in_features=1024, out_features=1024, bias=True)\n",
      "model.decoder.layers.5.encoder_attn.q_proj Linear(in_features=1024, out_features=1024, bias=True)\n",
      "model.decoder.layers.5.encoder_attn.out_proj Linear(in_features=1024, out_features=1024, bias=True)\n",
      "model.decoder.layers.5.encoder_attn_layer_norm LayerNorm((1024,), eps=1e-05, elementwise_affine=True)\n",
      "model.decoder.layers.5.fc1 Linear(in_features=1024, out_features=4096, bias=True)\n",
      "model.decoder.layers.5.fc2 Linear(in_features=4096, out_features=1024, bias=True)\n",
      "model.decoder.layers.5.final_layer_norm LayerNorm((1024,), eps=1e-05, elementwise_affine=True)\n",
      "model.decoder.layers.6 M2M100DecoderLayer(\n",
      "  (self_attn): M2M100SdpaAttention(\n",
      "    (k_proj): Linear(in_features=1024, out_features=1024, bias=True)\n",
      "    (v_proj): Linear(in_features=1024, out_features=1024, bias=True)\n",
      "    (q_proj): Linear(in_features=1024, out_features=1024, bias=True)\n",
      "    (out_proj): Linear(in_features=1024, out_features=1024, bias=True)\n",
      "  )\n",
      "  (activation_fn): ReLU()\n",
      "  (self_attn_layer_norm): LayerNorm((1024,), eps=1e-05, elementwise_affine=True)\n",
      "  (encoder_attn): M2M100SdpaAttention(\n",
      "    (k_proj): Linear(in_features=1024, out_features=1024, bias=True)\n",
      "    (v_proj): Linear(in_features=1024, out_features=1024, bias=True)\n",
      "    (q_proj): Linear(in_features=1024, out_features=1024, bias=True)\n",
      "    (out_proj): Linear(in_features=1024, out_features=1024, bias=True)\n",
      "  )\n",
      "  (encoder_attn_layer_norm): LayerNorm((1024,), eps=1e-05, elementwise_affine=True)\n",
      "  (fc1): Linear(in_features=1024, out_features=4096, bias=True)\n",
      "  (fc2): Linear(in_features=4096, out_features=1024, bias=True)\n",
      "  (final_layer_norm): LayerNorm((1024,), eps=1e-05, elementwise_affine=True)\n",
      ")\n",
      "model.decoder.layers.6.self_attn M2M100SdpaAttention(\n",
      "  (k_proj): Linear(in_features=1024, out_features=1024, bias=True)\n",
      "  (v_proj): Linear(in_features=1024, out_features=1024, bias=True)\n",
      "  (q_proj): Linear(in_features=1024, out_features=1024, bias=True)\n",
      "  (out_proj): Linear(in_features=1024, out_features=1024, bias=True)\n",
      ")\n",
      "model.decoder.layers.6.self_attn.k_proj Linear(in_features=1024, out_features=1024, bias=True)\n",
      "model.decoder.layers.6.self_attn.v_proj Linear(in_features=1024, out_features=1024, bias=True)\n",
      "model.decoder.layers.6.self_attn.q_proj Linear(in_features=1024, out_features=1024, bias=True)\n",
      "model.decoder.layers.6.self_attn.out_proj Linear(in_features=1024, out_features=1024, bias=True)\n",
      "model.decoder.layers.6.activation_fn ReLU()\n",
      "model.decoder.layers.6.self_attn_layer_norm LayerNorm((1024,), eps=1e-05, elementwise_affine=True)\n",
      "model.decoder.layers.6.encoder_attn M2M100SdpaAttention(\n",
      "  (k_proj): Linear(in_features=1024, out_features=1024, bias=True)\n",
      "  (v_proj): Linear(in_features=1024, out_features=1024, bias=True)\n",
      "  (q_proj): Linear(in_features=1024, out_features=1024, bias=True)\n",
      "  (out_proj): Linear(in_features=1024, out_features=1024, bias=True)\n",
      ")\n",
      "model.decoder.layers.6.encoder_attn.k_proj Linear(in_features=1024, out_features=1024, bias=True)\n",
      "model.decoder.layers.6.encoder_attn.v_proj Linear(in_features=1024, out_features=1024, bias=True)\n",
      "model.decoder.layers.6.encoder_attn.q_proj Linear(in_features=1024, out_features=1024, bias=True)\n",
      "model.decoder.layers.6.encoder_attn.out_proj Linear(in_features=1024, out_features=1024, bias=True)\n",
      "model.decoder.layers.6.encoder_attn_layer_norm LayerNorm((1024,), eps=1e-05, elementwise_affine=True)\n",
      "model.decoder.layers.6.fc1 Linear(in_features=1024, out_features=4096, bias=True)\n",
      "model.decoder.layers.6.fc2 Linear(in_features=4096, out_features=1024, bias=True)\n",
      "model.decoder.layers.6.final_layer_norm LayerNorm((1024,), eps=1e-05, elementwise_affine=True)\n",
      "model.decoder.layers.7 M2M100DecoderLayer(\n",
      "  (self_attn): M2M100SdpaAttention(\n",
      "    (k_proj): Linear(in_features=1024, out_features=1024, bias=True)\n",
      "    (v_proj): Linear(in_features=1024, out_features=1024, bias=True)\n",
      "    (q_proj): Linear(in_features=1024, out_features=1024, bias=True)\n",
      "    (out_proj): Linear(in_features=1024, out_features=1024, bias=True)\n",
      "  )\n",
      "  (activation_fn): ReLU()\n",
      "  (self_attn_layer_norm): LayerNorm((1024,), eps=1e-05, elementwise_affine=True)\n",
      "  (encoder_attn): M2M100SdpaAttention(\n",
      "    (k_proj): Linear(in_features=1024, out_features=1024, bias=True)\n",
      "    (v_proj): Linear(in_features=1024, out_features=1024, bias=True)\n",
      "    (q_proj): Linear(in_features=1024, out_features=1024, bias=True)\n",
      "    (out_proj): Linear(in_features=1024, out_features=1024, bias=True)\n",
      "  )\n",
      "  (encoder_attn_layer_norm): LayerNorm((1024,), eps=1e-05, elementwise_affine=True)\n",
      "  (fc1): Linear(in_features=1024, out_features=4096, bias=True)\n",
      "  (fc2): Linear(in_features=4096, out_features=1024, bias=True)\n",
      "  (final_layer_norm): LayerNorm((1024,), eps=1e-05, elementwise_affine=True)\n",
      ")\n",
      "model.decoder.layers.7.self_attn M2M100SdpaAttention(\n",
      "  (k_proj): Linear(in_features=1024, out_features=1024, bias=True)\n",
      "  (v_proj): Linear(in_features=1024, out_features=1024, bias=True)\n",
      "  (q_proj): Linear(in_features=1024, out_features=1024, bias=True)\n",
      "  (out_proj): Linear(in_features=1024, out_features=1024, bias=True)\n",
      ")\n",
      "model.decoder.layers.7.self_attn.k_proj Linear(in_features=1024, out_features=1024, bias=True)\n",
      "model.decoder.layers.7.self_attn.v_proj Linear(in_features=1024, out_features=1024, bias=True)\n",
      "model.decoder.layers.7.self_attn.q_proj Linear(in_features=1024, out_features=1024, bias=True)\n",
      "model.decoder.layers.7.self_attn.out_proj Linear(in_features=1024, out_features=1024, bias=True)\n",
      "model.decoder.layers.7.activation_fn ReLU()\n",
      "model.decoder.layers.7.self_attn_layer_norm LayerNorm((1024,), eps=1e-05, elementwise_affine=True)\n",
      "model.decoder.layers.7.encoder_attn M2M100SdpaAttention(\n",
      "  (k_proj): Linear(in_features=1024, out_features=1024, bias=True)\n",
      "  (v_proj): Linear(in_features=1024, out_features=1024, bias=True)\n",
      "  (q_proj): Linear(in_features=1024, out_features=1024, bias=True)\n",
      "  (out_proj): Linear(in_features=1024, out_features=1024, bias=True)\n",
      ")\n",
      "model.decoder.layers.7.encoder_attn.k_proj Linear(in_features=1024, out_features=1024, bias=True)\n",
      "model.decoder.layers.7.encoder_attn.v_proj Linear(in_features=1024, out_features=1024, bias=True)\n",
      "model.decoder.layers.7.encoder_attn.q_proj Linear(in_features=1024, out_features=1024, bias=True)\n",
      "model.decoder.layers.7.encoder_attn.out_proj Linear(in_features=1024, out_features=1024, bias=True)\n",
      "model.decoder.layers.7.encoder_attn_layer_norm LayerNorm((1024,), eps=1e-05, elementwise_affine=True)\n",
      "model.decoder.layers.7.fc1 Linear(in_features=1024, out_features=4096, bias=True)\n",
      "model.decoder.layers.7.fc2 Linear(in_features=4096, out_features=1024, bias=True)\n",
      "model.decoder.layers.7.final_layer_norm LayerNorm((1024,), eps=1e-05, elementwise_affine=True)\n",
      "model.decoder.layers.8 M2M100DecoderLayer(\n",
      "  (self_attn): M2M100SdpaAttention(\n",
      "    (k_proj): Linear(in_features=1024, out_features=1024, bias=True)\n",
      "    (v_proj): Linear(in_features=1024, out_features=1024, bias=True)\n",
      "    (q_proj): Linear(in_features=1024, out_features=1024, bias=True)\n",
      "    (out_proj): Linear(in_features=1024, out_features=1024, bias=True)\n",
      "  )\n",
      "  (activation_fn): ReLU()\n",
      "  (self_attn_layer_norm): LayerNorm((1024,), eps=1e-05, elementwise_affine=True)\n",
      "  (encoder_attn): M2M100SdpaAttention(\n",
      "    (k_proj): Linear(in_features=1024, out_features=1024, bias=True)\n",
      "    (v_proj): Linear(in_features=1024, out_features=1024, bias=True)\n",
      "    (q_proj): Linear(in_features=1024, out_features=1024, bias=True)\n",
      "    (out_proj): Linear(in_features=1024, out_features=1024, bias=True)\n",
      "  )\n",
      "  (encoder_attn_layer_norm): LayerNorm((1024,), eps=1e-05, elementwise_affine=True)\n",
      "  (fc1): Linear(in_features=1024, out_features=4096, bias=True)\n",
      "  (fc2): Linear(in_features=4096, out_features=1024, bias=True)\n",
      "  (final_layer_norm): LayerNorm((1024,), eps=1e-05, elementwise_affine=True)\n",
      ")\n",
      "model.decoder.layers.8.self_attn M2M100SdpaAttention(\n",
      "  (k_proj): Linear(in_features=1024, out_features=1024, bias=True)\n",
      "  (v_proj): Linear(in_features=1024, out_features=1024, bias=True)\n",
      "  (q_proj): Linear(in_features=1024, out_features=1024, bias=True)\n",
      "  (out_proj): Linear(in_features=1024, out_features=1024, bias=True)\n",
      ")\n",
      "model.decoder.layers.8.self_attn.k_proj Linear(in_features=1024, out_features=1024, bias=True)\n",
      "model.decoder.layers.8.self_attn.v_proj Linear(in_features=1024, out_features=1024, bias=True)\n",
      "model.decoder.layers.8.self_attn.q_proj Linear(in_features=1024, out_features=1024, bias=True)\n",
      "model.decoder.layers.8.self_attn.out_proj Linear(in_features=1024, out_features=1024, bias=True)\n",
      "model.decoder.layers.8.activation_fn ReLU()\n",
      "model.decoder.layers.8.self_attn_layer_norm LayerNorm((1024,), eps=1e-05, elementwise_affine=True)\n",
      "model.decoder.layers.8.encoder_attn M2M100SdpaAttention(\n",
      "  (k_proj): Linear(in_features=1024, out_features=1024, bias=True)\n",
      "  (v_proj): Linear(in_features=1024, out_features=1024, bias=True)\n",
      "  (q_proj): Linear(in_features=1024, out_features=1024, bias=True)\n",
      "  (out_proj): Linear(in_features=1024, out_features=1024, bias=True)\n",
      ")\n",
      "model.decoder.layers.8.encoder_attn.k_proj Linear(in_features=1024, out_features=1024, bias=True)\n",
      "model.decoder.layers.8.encoder_attn.v_proj Linear(in_features=1024, out_features=1024, bias=True)\n",
      "model.decoder.layers.8.encoder_attn.q_proj Linear(in_features=1024, out_features=1024, bias=True)\n",
      "model.decoder.layers.8.encoder_attn.out_proj Linear(in_features=1024, out_features=1024, bias=True)\n",
      "model.decoder.layers.8.encoder_attn_layer_norm LayerNorm((1024,), eps=1e-05, elementwise_affine=True)\n",
      "model.decoder.layers.8.fc1 Linear(in_features=1024, out_features=4096, bias=True)\n",
      "model.decoder.layers.8.fc2 Linear(in_features=4096, out_features=1024, bias=True)\n",
      "model.decoder.layers.8.final_layer_norm LayerNorm((1024,), eps=1e-05, elementwise_affine=True)\n",
      "model.decoder.layers.9 M2M100DecoderLayer(\n",
      "  (self_attn): M2M100SdpaAttention(\n",
      "    (k_proj): Linear(in_features=1024, out_features=1024, bias=True)\n",
      "    (v_proj): Linear(in_features=1024, out_features=1024, bias=True)\n",
      "    (q_proj): Linear(in_features=1024, out_features=1024, bias=True)\n",
      "    (out_proj): Linear(in_features=1024, out_features=1024, bias=True)\n",
      "  )\n",
      "  (activation_fn): ReLU()\n",
      "  (self_attn_layer_norm): LayerNorm((1024,), eps=1e-05, elementwise_affine=True)\n",
      "  (encoder_attn): M2M100SdpaAttention(\n",
      "    (k_proj): Linear(in_features=1024, out_features=1024, bias=True)\n",
      "    (v_proj): Linear(in_features=1024, out_features=1024, bias=True)\n",
      "    (q_proj): Linear(in_features=1024, out_features=1024, bias=True)\n",
      "    (out_proj): Linear(in_features=1024, out_features=1024, bias=True)\n",
      "  )\n",
      "  (encoder_attn_layer_norm): LayerNorm((1024,), eps=1e-05, elementwise_affine=True)\n",
      "  (fc1): Linear(in_features=1024, out_features=4096, bias=True)\n",
      "  (fc2): Linear(in_features=4096, out_features=1024, bias=True)\n",
      "  (final_layer_norm): LayerNorm((1024,), eps=1e-05, elementwise_affine=True)\n",
      ")\n",
      "model.decoder.layers.9.self_attn M2M100SdpaAttention(\n",
      "  (k_proj): Linear(in_features=1024, out_features=1024, bias=True)\n",
      "  (v_proj): Linear(in_features=1024, out_features=1024, bias=True)\n",
      "  (q_proj): Linear(in_features=1024, out_features=1024, bias=True)\n",
      "  (out_proj): Linear(in_features=1024, out_features=1024, bias=True)\n",
      ")\n",
      "model.decoder.layers.9.self_attn.k_proj Linear(in_features=1024, out_features=1024, bias=True)\n",
      "model.decoder.layers.9.self_attn.v_proj Linear(in_features=1024, out_features=1024, bias=True)\n",
      "model.decoder.layers.9.self_attn.q_proj Linear(in_features=1024, out_features=1024, bias=True)\n",
      "model.decoder.layers.9.self_attn.out_proj Linear(in_features=1024, out_features=1024, bias=True)\n",
      "model.decoder.layers.9.activation_fn ReLU()\n",
      "model.decoder.layers.9.self_attn_layer_norm LayerNorm((1024,), eps=1e-05, elementwise_affine=True)\n",
      "model.decoder.layers.9.encoder_attn M2M100SdpaAttention(\n",
      "  (k_proj): Linear(in_features=1024, out_features=1024, bias=True)\n",
      "  (v_proj): Linear(in_features=1024, out_features=1024, bias=True)\n",
      "  (q_proj): Linear(in_features=1024, out_features=1024, bias=True)\n",
      "  (out_proj): Linear(in_features=1024, out_features=1024, bias=True)\n",
      ")\n",
      "model.decoder.layers.9.encoder_attn.k_proj Linear(in_features=1024, out_features=1024, bias=True)\n",
      "model.decoder.layers.9.encoder_attn.v_proj Linear(in_features=1024, out_features=1024, bias=True)\n",
      "model.decoder.layers.9.encoder_attn.q_proj Linear(in_features=1024, out_features=1024, bias=True)\n",
      "model.decoder.layers.9.encoder_attn.out_proj Linear(in_features=1024, out_features=1024, bias=True)\n",
      "model.decoder.layers.9.encoder_attn_layer_norm LayerNorm((1024,), eps=1e-05, elementwise_affine=True)\n",
      "model.decoder.layers.9.fc1 Linear(in_features=1024, out_features=4096, bias=True)\n",
      "model.decoder.layers.9.fc2 Linear(in_features=4096, out_features=1024, bias=True)\n",
      "model.decoder.layers.9.final_layer_norm LayerNorm((1024,), eps=1e-05, elementwise_affine=True)\n",
      "model.decoder.layers.10 M2M100DecoderLayer(\n",
      "  (self_attn): M2M100SdpaAttention(\n",
      "    (k_proj): Linear(in_features=1024, out_features=1024, bias=True)\n",
      "    (v_proj): Linear(in_features=1024, out_features=1024, bias=True)\n",
      "    (q_proj): Linear(in_features=1024, out_features=1024, bias=True)\n",
      "    (out_proj): Linear(in_features=1024, out_features=1024, bias=True)\n",
      "  )\n",
      "  (activation_fn): ReLU()\n",
      "  (self_attn_layer_norm): LayerNorm((1024,), eps=1e-05, elementwise_affine=True)\n",
      "  (encoder_attn): M2M100SdpaAttention(\n",
      "    (k_proj): Linear(in_features=1024, out_features=1024, bias=True)\n",
      "    (v_proj): Linear(in_features=1024, out_features=1024, bias=True)\n",
      "    (q_proj): Linear(in_features=1024, out_features=1024, bias=True)\n",
      "    (out_proj): Linear(in_features=1024, out_features=1024, bias=True)\n",
      "  )\n",
      "  (encoder_attn_layer_norm): LayerNorm((1024,), eps=1e-05, elementwise_affine=True)\n",
      "  (fc1): Linear(in_features=1024, out_features=4096, bias=True)\n",
      "  (fc2): Linear(in_features=4096, out_features=1024, bias=True)\n",
      "  (final_layer_norm): LayerNorm((1024,), eps=1e-05, elementwise_affine=True)\n",
      ")\n",
      "model.decoder.layers.10.self_attn M2M100SdpaAttention(\n",
      "  (k_proj): Linear(in_features=1024, out_features=1024, bias=True)\n",
      "  (v_proj): Linear(in_features=1024, out_features=1024, bias=True)\n",
      "  (q_proj): Linear(in_features=1024, out_features=1024, bias=True)\n",
      "  (out_proj): Linear(in_features=1024, out_features=1024, bias=True)\n",
      ")\n",
      "model.decoder.layers.10.self_attn.k_proj Linear(in_features=1024, out_features=1024, bias=True)\n",
      "model.decoder.layers.10.self_attn.v_proj Linear(in_features=1024, out_features=1024, bias=True)\n",
      "model.decoder.layers.10.self_attn.q_proj Linear(in_features=1024, out_features=1024, bias=True)\n",
      "model.decoder.layers.10.self_attn.out_proj Linear(in_features=1024, out_features=1024, bias=True)\n",
      "model.decoder.layers.10.activation_fn ReLU()\n",
      "model.decoder.layers.10.self_attn_layer_norm LayerNorm((1024,), eps=1e-05, elementwise_affine=True)\n",
      "model.decoder.layers.10.encoder_attn M2M100SdpaAttention(\n",
      "  (k_proj): Linear(in_features=1024, out_features=1024, bias=True)\n",
      "  (v_proj): Linear(in_features=1024, out_features=1024, bias=True)\n",
      "  (q_proj): Linear(in_features=1024, out_features=1024, bias=True)\n",
      "  (out_proj): Linear(in_features=1024, out_features=1024, bias=True)\n",
      ")\n",
      "model.decoder.layers.10.encoder_attn.k_proj Linear(in_features=1024, out_features=1024, bias=True)\n",
      "model.decoder.layers.10.encoder_attn.v_proj Linear(in_features=1024, out_features=1024, bias=True)\n",
      "model.decoder.layers.10.encoder_attn.q_proj Linear(in_features=1024, out_features=1024, bias=True)\n",
      "model.decoder.layers.10.encoder_attn.out_proj Linear(in_features=1024, out_features=1024, bias=True)\n",
      "model.decoder.layers.10.encoder_attn_layer_norm LayerNorm((1024,), eps=1e-05, elementwise_affine=True)\n",
      "model.decoder.layers.10.fc1 Linear(in_features=1024, out_features=4096, bias=True)\n",
      "model.decoder.layers.10.fc2 Linear(in_features=4096, out_features=1024, bias=True)\n",
      "model.decoder.layers.10.final_layer_norm LayerNorm((1024,), eps=1e-05, elementwise_affine=True)\n",
      "model.decoder.layers.11 M2M100DecoderLayer(\n",
      "  (self_attn): M2M100SdpaAttention(\n",
      "    (k_proj): Linear(in_features=1024, out_features=1024, bias=True)\n",
      "    (v_proj): Linear(in_features=1024, out_features=1024, bias=True)\n",
      "    (q_proj): Linear(in_features=1024, out_features=1024, bias=True)\n",
      "    (out_proj): Linear(in_features=1024, out_features=1024, bias=True)\n",
      "  )\n",
      "  (activation_fn): ReLU()\n",
      "  (self_attn_layer_norm): LayerNorm((1024,), eps=1e-05, elementwise_affine=True)\n",
      "  (encoder_attn): M2M100SdpaAttention(\n",
      "    (k_proj): Linear(in_features=1024, out_features=1024, bias=True)\n",
      "    (v_proj): Linear(in_features=1024, out_features=1024, bias=True)\n",
      "    (q_proj): Linear(in_features=1024, out_features=1024, bias=True)\n",
      "    (out_proj): Linear(in_features=1024, out_features=1024, bias=True)\n",
      "  )\n",
      "  (encoder_attn_layer_norm): LayerNorm((1024,), eps=1e-05, elementwise_affine=True)\n",
      "  (fc1): Linear(in_features=1024, out_features=4096, bias=True)\n",
      "  (fc2): Linear(in_features=4096, out_features=1024, bias=True)\n",
      "  (final_layer_norm): LayerNorm((1024,), eps=1e-05, elementwise_affine=True)\n",
      ")\n",
      "model.decoder.layers.11.self_attn M2M100SdpaAttention(\n",
      "  (k_proj): Linear(in_features=1024, out_features=1024, bias=True)\n",
      "  (v_proj): Linear(in_features=1024, out_features=1024, bias=True)\n",
      "  (q_proj): Linear(in_features=1024, out_features=1024, bias=True)\n",
      "  (out_proj): Linear(in_features=1024, out_features=1024, bias=True)\n",
      ")\n",
      "model.decoder.layers.11.self_attn.k_proj Linear(in_features=1024, out_features=1024, bias=True)\n",
      "model.decoder.layers.11.self_attn.v_proj Linear(in_features=1024, out_features=1024, bias=True)\n",
      "model.decoder.layers.11.self_attn.q_proj Linear(in_features=1024, out_features=1024, bias=True)\n",
      "model.decoder.layers.11.self_attn.out_proj Linear(in_features=1024, out_features=1024, bias=True)\n",
      "model.decoder.layers.11.activation_fn ReLU()\n",
      "model.decoder.layers.11.self_attn_layer_norm LayerNorm((1024,), eps=1e-05, elementwise_affine=True)\n",
      "model.decoder.layers.11.encoder_attn M2M100SdpaAttention(\n",
      "  (k_proj): Linear(in_features=1024, out_features=1024, bias=True)\n",
      "  (v_proj): Linear(in_features=1024, out_features=1024, bias=True)\n",
      "  (q_proj): Linear(in_features=1024, out_features=1024, bias=True)\n",
      "  (out_proj): Linear(in_features=1024, out_features=1024, bias=True)\n",
      ")\n",
      "model.decoder.layers.11.encoder_attn.k_proj Linear(in_features=1024, out_features=1024, bias=True)\n",
      "model.decoder.layers.11.encoder_attn.v_proj Linear(in_features=1024, out_features=1024, bias=True)\n",
      "model.decoder.layers.11.encoder_attn.q_proj Linear(in_features=1024, out_features=1024, bias=True)\n",
      "model.decoder.layers.11.encoder_attn.out_proj Linear(in_features=1024, out_features=1024, bias=True)\n",
      "model.decoder.layers.11.encoder_attn_layer_norm LayerNorm((1024,), eps=1e-05, elementwise_affine=True)\n",
      "model.decoder.layers.11.fc1 Linear(in_features=1024, out_features=4096, bias=True)\n",
      "model.decoder.layers.11.fc2 Linear(in_features=4096, out_features=1024, bias=True)\n",
      "model.decoder.layers.11.final_layer_norm LayerNorm((1024,), eps=1e-05, elementwise_affine=True)\n",
      "model.decoder.layer_norm LayerNorm((1024,), eps=1e-05, elementwise_affine=True)\n",
      "lm_head Linear(in_features=1024, out_features=128112, bias=False)\n"
     ]
    }
   ],
   "source": [
    "# Access the model's named modules\n",
    "for name, module in model.named_modules():\n",
    "    print(name, module)"
   ]
  },
  {
   "cell_type": "markdown",
   "metadata": {},
   "source": [
    "## 3.2 Defining lora Config\n"
   ]
  },
  {
   "cell_type": "code",
   "execution_count": 21,
   "metadata": {},
   "outputs": [],
   "source": [
    "model_ID = \"facebook/m2m100_418M\"  # Replace with your desired model\n",
    "model_lora = AutoModelForSeq2SeqLM.from_pretrained(model_ID)\n",
    "tokenizer_lora = AutoTokenizer.from_pretrained(model_ID, src_lang=\"en\", tgt_lang=\"hi\")\n",
    "# Create a GenerationConfig with the desired parameters"
   ]
  },
  {
   "cell_type": "code",
   "execution_count": 22,
   "metadata": {},
   "outputs": [],
   "source": [
    "# Define LoRA configuration\n",
    "lora_config = LoraConfig(\n",
    "    r=4,  # Low rank (fewer trainable parameters)\n",
    "    lora_alpha=32,  # Scaling factor\n",
    "    target_modules=[\"q_proj\", \"v_proj\"],  # Apply LoRA to attention layers (query and value)\n",
    "    bias=\"none\",  # Specify which biases to train\n",
    "    task_type=\"SEQ_2_SEQ_LM\",  # Task type (sequence-to-sequence)\n",
    ")\n",
    "\n",
    "# Wrap the base model with LoRA\n",
    "model_lora = get_peft_model(model, lora_config)"
   ]
  },
  {
   "cell_type": "markdown",
   "metadata": {},
   "source": [
    "## 3.3 loading and spliting datasets for lora \n"
   ]
  },
  {
   "cell_type": "code",
   "execution_count": 23,
   "metadata": {},
   "outputs": [
    {
     "name": "stdout",
     "output_type": "stream",
     "text": [
      "DatasetDict({\n",
      "    train: Dataset({\n",
      "        features: ['English', 'Hindi'],\n",
      "        num_rows: 64\n",
      "    })\n",
      "    validation: Dataset({\n",
      "        features: ['English', 'Hindi'],\n",
      "        num_rows: 8\n",
      "    })\n",
      "    test: Dataset({\n",
      "        features: ['English', 'Hindi'],\n",
      "        num_rows: 8\n",
      "    })\n",
      "})\n"
     ]
    }
   ],
   "source": [
    "percent_data_select_lora = \"train[:100]\" # add percent sign ie. \"train[:20%]\" to select that percent of data \n",
    "# Load only 20% of the dataset\n",
    "dataset_lora = load_dataset(\"csv\", data_files={\"train\": \"../Datasets/processed_data.csv\"}, split=percent_data_select)\n",
    "\n",
    "# Split into train and test sets (e.g., 80% train, 20% test)\n",
    "train_test_split = dataset_lora.train_test_split(test_size=0.2, seed=42)\n",
    "\n",
    "# Further split the test set into validation and test (e.g., 50-50 split of the 20%)\n",
    "validation_test_split = train_test_split[\"test\"].train_test_split(test_size=0.5, seed=42)\n",
    "\n",
    "# Combine splits into a DatasetDict\n",
    "raw_dataset = {\n",
    "    \"train\": train_test_split[\"train\"],\n",
    "    \"validation\": validation_test_split[\"train\"],\n",
    "    \"test\": validation_test_split[\"test\"]\n",
    "}\n",
    "\n",
    "dataset_lora = DatasetDict(raw_dataset)\n",
    "\n",
    "# Inspect the resulting dataset\n",
    "print(dataset_lora)"
   ]
  },
  {
   "cell_type": "markdown",
   "metadata": {},
   "source": [
    "## 3.4 Tokenising dataset for lora \n"
   ]
  },
  {
   "cell_type": "code",
   "execution_count": 24,
   "metadata": {},
   "outputs": [],
   "source": [
    "def preprocess_function(examples):\n",
    "    inputs = [\"translate Hindi to English: \" + ex for ex in examples[\"Hindi\"]]\n",
    "    targets = examples[\"English\"]\n",
    "    model_inputs = tokenizer(inputs, max_length=128, truncation=True, padding=\"max_length\")\n",
    "    with tokenizer.as_target_tokenizer():\n",
    "        labels = tokenizer(targets, max_length=128, truncation=True, padding=\"max_length\")\n",
    "    model_inputs[\"labels\"] = labels[\"input_ids\"]\n",
    "    return model_inputs\n",
    "\n",
    "# Apply preprocessing\n",
    "tokenized_dataset_lora = dataset_lora.map(preprocess_function, batched=True)\n"
   ]
  },
  {
   "cell_type": "code",
   "execution_count": 25,
   "metadata": {},
   "outputs": [
    {
     "data": {
      "text/plain": [
       "DatasetDict({\n",
       "    train: Dataset({\n",
       "        features: ['English', 'Hindi', 'input_ids', 'attention_mask', 'labels'],\n",
       "        num_rows: 64\n",
       "    })\n",
       "    validation: Dataset({\n",
       "        features: ['English', 'Hindi', 'input_ids', 'attention_mask', 'labels'],\n",
       "        num_rows: 8\n",
       "    })\n",
       "    test: Dataset({\n",
       "        features: ['English', 'Hindi', 'input_ids', 'attention_mask', 'labels'],\n",
       "        num_rows: 8\n",
       "    })\n",
       "})"
      ]
     },
     "execution_count": 25,
     "metadata": {},
     "output_type": "execute_result"
    }
   ],
   "source": [
    "tokenized_dataset_lora"
   ]
  },
  {
   "cell_type": "markdown",
   "metadata": {},
   "source": [
    "## 3.5 Data collator"
   ]
  },
  {
   "cell_type": "code",
   "execution_count": 26,
   "metadata": {},
   "outputs": [],
   "source": [
    "data_collator = DataCollatorForSeq2Seq(tokenizer=tokenizer_lora, model=model_lora)"
   ]
  },
  {
   "cell_type": "markdown",
   "metadata": {},
   "source": [
    "## 3.6 FineTuning\n"
   ]
  },
  {
   "cell_type": "code",
   "execution_count": 27,
   "metadata": {},
   "outputs": [
    {
     "name": "stderr",
     "output_type": "stream",
     "text": [
      "C:\\Users\\akthe\\AppData\\Local\\Temp\\ipykernel_25880\\3888630780.py:16: FutureWarning: `tokenizer` is deprecated and will be removed in version 5.0.0 for `Seq2SeqTrainer.__init__`. Use `processing_class` instead.\n",
      "  trainer = Seq2SeqTrainer(\n"
     ]
    },
    {
     "data": {
      "application/vnd.jupyter.widget-view+json": {
       "model_id": "deaa53b471004207a6cc25d8d6acd263",
       "version_major": 2,
       "version_minor": 0
      },
      "text/plain": [
       "  0%|          | 0/32 [00:00<?, ?it/s]"
      ]
     },
     "metadata": {},
     "output_type": "display_data"
    },
    {
     "name": "stderr",
     "output_type": "stream",
     "text": [
      "Trainer.tokenizer is now deprecated. You should use Trainer.processing_class instead.\n",
      "Trainer.tokenizer is now deprecated. You should use Trainer.processing_class instead.\n",
      "Trainer.tokenizer is now deprecated. You should use Trainer.processing_class instead.\n",
      "Trainer.tokenizer is now deprecated. You should use Trainer.processing_class instead.\n",
      "Trainer.tokenizer is now deprecated. You should use Trainer.processing_class instead.\n",
      "Trainer.tokenizer is now deprecated. You should use Trainer.processing_class instead.\n",
      "Trainer.tokenizer is now deprecated. You should use Trainer.processing_class instead.\n",
      "Trainer.tokenizer is now deprecated. You should use Trainer.processing_class instead.\n"
     ]
    },
    {
     "data": {
      "application/vnd.jupyter.widget-view+json": {
       "model_id": "8b1aaf41e61d488394b3d647af0d9a92",
       "version_major": 2,
       "version_minor": 0
      },
      "text/plain": [
       "  0%|          | 0/1 [00:00<?, ?it/s]"
      ]
     },
     "metadata": {},
     "output_type": "display_data"
    },
    {
     "name": "stdout",
     "output_type": "stream",
     "text": [
      "{'eval_loss': 7.108643054962158, 'eval_bleu': 21.1661, 'eval_gen_len': 15.125, 'eval_runtime': 5.856, 'eval_samples_per_second': 1.366, 'eval_steps_per_second': 0.171, 'epoch': 1.0}\n"
     ]
    },
    {
     "name": "stderr",
     "output_type": "stream",
     "text": [
      "Trainer.tokenizer is now deprecated. You should use Trainer.processing_class instead.\n",
      "Trainer.tokenizer is now deprecated. You should use Trainer.processing_class instead.\n",
      "Trainer.tokenizer is now deprecated. You should use Trainer.processing_class instead.\n",
      "Trainer.tokenizer is now deprecated. You should use Trainer.processing_class instead.\n",
      "Trainer.tokenizer is now deprecated. You should use Trainer.processing_class instead.\n",
      "Trainer.tokenizer is now deprecated. You should use Trainer.processing_class instead.\n",
      "Trainer.tokenizer is now deprecated. You should use Trainer.processing_class instead.\n",
      "Trainer.tokenizer is now deprecated. You should use Trainer.processing_class instead.\n"
     ]
    },
    {
     "data": {
      "application/vnd.jupyter.widget-view+json": {
       "model_id": "9ae6f5540e7f40b9a3835ebee26f7d54",
       "version_major": 2,
       "version_minor": 0
      },
      "text/plain": [
       "  0%|          | 0/1 [00:00<?, ?it/s]"
      ]
     },
     "metadata": {},
     "output_type": "display_data"
    },
    {
     "name": "stdout",
     "output_type": "stream",
     "text": [
      "{'eval_loss': 7.098417282104492, 'eval_bleu': 21.1661, 'eval_gen_len': 15.125, 'eval_runtime': 6.1658, 'eval_samples_per_second': 1.297, 'eval_steps_per_second': 0.162, 'epoch': 2.0}\n"
     ]
    },
    {
     "name": "stderr",
     "output_type": "stream",
     "text": [
      "Trainer.tokenizer is now deprecated. You should use Trainer.processing_class instead.\n",
      "Trainer.tokenizer is now deprecated. You should use Trainer.processing_class instead.\n",
      "Trainer.tokenizer is now deprecated. You should use Trainer.processing_class instead.\n",
      "Trainer.tokenizer is now deprecated. You should use Trainer.processing_class instead.\n",
      "Trainer.tokenizer is now deprecated. You should use Trainer.processing_class instead.\n",
      "Trainer.tokenizer is now deprecated. You should use Trainer.processing_class instead.\n",
      "Trainer.tokenizer is now deprecated. You should use Trainer.processing_class instead.\n",
      "Trainer.tokenizer is now deprecated. You should use Trainer.processing_class instead.\n"
     ]
    },
    {
     "data": {
      "application/vnd.jupyter.widget-view+json": {
       "model_id": "0588b1870b8a42d89d097253f48d1956",
       "version_major": 2,
       "version_minor": 0
      },
      "text/plain": [
       "  0%|          | 0/1 [00:00<?, ?it/s]"
      ]
     },
     "metadata": {},
     "output_type": "display_data"
    },
    {
     "name": "stdout",
     "output_type": "stream",
     "text": [
      "{'eval_loss': 7.092388153076172, 'eval_bleu': 21.1661, 'eval_gen_len': 15.125, 'eval_runtime': 6.6126, 'eval_samples_per_second': 1.21, 'eval_steps_per_second': 0.151, 'epoch': 3.0}\n"
     ]
    },
    {
     "name": "stderr",
     "output_type": "stream",
     "text": [
      "Trainer.tokenizer is now deprecated. You should use Trainer.processing_class instead.\n",
      "Trainer.tokenizer is now deprecated. You should use Trainer.processing_class instead.\n",
      "Trainer.tokenizer is now deprecated. You should use Trainer.processing_class instead.\n",
      "Trainer.tokenizer is now deprecated. You should use Trainer.processing_class instead.\n",
      "Trainer.tokenizer is now deprecated. You should use Trainer.processing_class instead.\n",
      "Trainer.tokenizer is now deprecated. You should use Trainer.processing_class instead.\n",
      "Trainer.tokenizer is now deprecated. You should use Trainer.processing_class instead.\n",
      "Trainer.tokenizer is now deprecated. You should use Trainer.processing_class instead.\n"
     ]
    },
    {
     "data": {
      "application/vnd.jupyter.widget-view+json": {
       "model_id": "bf0312139a4040e887c0e89f853ae852",
       "version_major": 2,
       "version_minor": 0
      },
      "text/plain": [
       "  0%|          | 0/1 [00:00<?, ?it/s]"
      ]
     },
     "metadata": {},
     "output_type": "display_data"
    },
    {
     "name": "stdout",
     "output_type": "stream",
     "text": [
      "{'eval_loss': 7.089855194091797, 'eval_bleu': 21.1661, 'eval_gen_len': 15.125, 'eval_runtime': 6.5869, 'eval_samples_per_second': 1.215, 'eval_steps_per_second': 0.152, 'epoch': 4.0}\n",
      "{'train_runtime': 88.9076, 'train_samples_per_second': 2.879, 'train_steps_per_second': 0.36, 'train_loss': 7.262473106384277, 'epoch': 4.0}\n"
     ]
    },
    {
     "data": {
      "text/plain": [
       "TrainOutput(global_step=32, training_loss=7.262473106384277, metrics={'train_runtime': 88.9076, 'train_samples_per_second': 2.879, 'train_steps_per_second': 0.36, 'total_flos': 69463311384576.0, 'train_loss': 7.262473106384277, 'epoch': 4.0})"
      ]
     },
     "execution_count": 27,
     "metadata": {},
     "output_type": "execute_result"
    }
   ],
   "source": [
    "training_args = Seq2SeqTrainingArguments(\n",
    "    output_dir=\"../Model/LoRa/Checkpoint/\",\n",
    "    eval_strategy=\"epoch\",\n",
    "    learning_rate=2e-5,\n",
    "    per_device_train_batch_size=8,\n",
    "    per_device_eval_batch_size=8,\n",
    "    weight_decay=0.01,\n",
    "    save_total_limit=3,\n",
    "    num_train_epochs=4,\n",
    "    save_safetensors=False,\n",
    "    predict_with_generate=True,\n",
    "    fp16=True, #change to bf16=True for XPU\n",
    "    \n",
    ")\n",
    "\n",
    "trainer = Seq2SeqTrainer(\n",
    "    model=model_lora,\n",
    "    args=training_args,\n",
    "    train_dataset=tokenized_dataset_lora[\"train\"],\n",
    "    eval_dataset=tokenized_dataset_lora[\"test\"],\n",
    "    tokenizer=tokenizer,\n",
    "    data_collator=data_collator,\n",
    "    compute_metrics=compute_metrics,\n",
    "    \n",
    ")\n",
    "\n",
    "trainer.train()"
   ]
  },
  {
   "cell_type": "markdown",
   "metadata": {},
   "source": [
    "## 3.7 Saving Finetuned Model\n"
   ]
  },
  {
   "cell_type": "code",
   "execution_count": 55,
   "metadata": {},
   "outputs": [
    {
     "data": {
      "text/plain": [
       "('../Model/LoRa/M2M100/tokenizer_config.json',\n",
       " '../Model/LoRa/M2M100/special_tokens_map.json',\n",
       " '..\\\\Model\\\\LoRa\\\\M2M100\\\\vocab.json',\n",
       " '..\\\\Model\\\\LoRa\\\\M2M100\\\\sentencepiece.bpe.model',\n",
       " '../Model/LoRa/M2M100/added_tokens.json')"
      ]
     },
     "execution_count": 55,
     "metadata": {},
     "output_type": "execute_result"
    }
   ],
   "source": [
    "model_lora.merge_and_unload()\n",
    "model_lora.save_pretrained(\"../Model/LoRa/M2M100/\")\n",
    "tokenizer.save_pretrained(\"../Model/LoRa/M2M100/\")\n"
   ]
  },
  {
   "cell_type": "markdown",
   "metadata": {},
   "source": [
    "## 3.8 Testing Finetuned Model\n"
   ]
  },
  {
   "cell_type": "code",
   "execution_count": 58,
   "metadata": {},
   "outputs": [
    {
     "name": "stderr",
     "output_type": "stream",
     "text": [
      "Device set to use cuda:0\n"
     ]
    },
    {
     "name": "stdout",
     "output_type": "stream",
     "text": [
      "[{'translation_text': 'एक पैर तोड़ना'}]\n"
     ]
    }
   ],
   "source": [
    "# Initialize the translation pipeline\n",
    "translator = pipeline(\"translation_en_to_hi\", model=\"../Model/LoRa/M2M100/\", tokenizer=\"../Model/LoRa/M2M100/\")\n",
    "\n",
    "# Test translation\n",
    "text = \"break a leg\"\n",
    "translated_text = translator(text)\n",
    "\n",
    "print(translated_text)\n"
   ]
  },
  {
   "cell_type": "markdown",
   "metadata": {},
   "source": [
    "# 4. Comparision\n"
   ]
  },
  {
   "cell_type": "code",
   "execution_count": 52,
   "metadata": {},
   "outputs": [
    {
     "name": "stdout",
     "output_type": "stream",
     "text": [
      "DatasetDict({\n",
      "    train: Dataset({\n",
      "        features: ['English', 'Hindi'],\n",
      "        num_rows: 64\n",
      "    })\n",
      "    validation: Dataset({\n",
      "        features: ['English', 'Hindi'],\n",
      "        num_rows: 8\n",
      "    })\n",
      "    test: Dataset({\n",
      "        features: ['English', 'Hindi'],\n",
      "        num_rows: 8\n",
      "    })\n",
      "})\n",
      "DatasetDict({\n",
      "    train: Dataset({\n",
      "        features: ['English', 'Hindi', 'input_ids', 'attention_mask', 'labels'],\n",
      "        num_rows: 64\n",
      "    })\n",
      "    validation: Dataset({\n",
      "        features: ['English', 'Hindi', 'input_ids', 'attention_mask', 'labels'],\n",
      "        num_rows: 8\n",
      "    })\n",
      "    test: Dataset({\n",
      "        features: ['English', 'Hindi', 'input_ids', 'attention_mask', 'labels'],\n",
      "        num_rows: 8\n",
      "    })\n",
      "})\n"
     ]
    },
    {
     "name": "stderr",
     "output_type": "stream",
     "text": [
      "c:\\Users\\akthe\\miniconda3\\envs\\WPanda\\Lib\\site-packages\\transformers\\training_args.py:1575: FutureWarning: `evaluation_strategy` is deprecated and will be removed in version 4.46 of 🤗 Transformers. Use `eval_strategy` instead\n",
      "  warnings.warn(\n",
      "C:\\Users\\akthe\\AppData\\Local\\Temp\\ipykernel_25880\\1941606281.py:110: FutureWarning: `tokenizer` is deprecated and will be removed in version 5.0.0 for `Seq2SeqTrainer.__init__`. Use `processing_class` instead.\n",
      "  trainer = Seq2SeqTrainer(\n"
     ]
    },
    {
     "name": "stdout",
     "output_type": "stream",
     "text": [
      "trainable params: 2,359,296 || all params: 486,264,832 || trainable%: 0.4852\n"
     ]
    },
    {
     "data": {
      "application/vnd.jupyter.widget-view+json": {
       "model_id": "4affd3677d734ffabf4d6c72a7befc1f",
       "version_major": 2,
       "version_minor": 0
      },
      "text/plain": [
       "  0%|          | 0/24 [00:00<?, ?it/s]"
      ]
     },
     "metadata": {},
     "output_type": "display_data"
    },
    {
     "data": {
      "application/vnd.jupyter.widget-view+json": {
       "model_id": "a8597ea29a8e4071af9e48f3932920d7",
       "version_major": 2,
       "version_minor": 0
      },
      "text/plain": [
       "  0%|          | 0/1 [00:00<?, ?it/s]"
      ]
     },
     "metadata": {},
     "output_type": "display_data"
    },
    {
     "name": "stdout",
     "output_type": "stream",
     "text": [
      "{'eval_runtime': 1.228, 'eval_samples_per_second': 6.514, 'eval_steps_per_second': 0.814, 'epoch': 1.0}\n"
     ]
    },
    {
     "data": {
      "application/vnd.jupyter.widget-view+json": {
       "model_id": "149ec6b24bd14a50b610c4b895d9bab9",
       "version_major": 2,
       "version_minor": 0
      },
      "text/plain": [
       "  0%|          | 0/1 [00:00<?, ?it/s]"
      ]
     },
     "metadata": {},
     "output_type": "display_data"
    },
    {
     "name": "stdout",
     "output_type": "stream",
     "text": [
      "{'eval_runtime': 1.1731, 'eval_samples_per_second': 6.82, 'eval_steps_per_second': 0.852, 'epoch': 2.0}\n"
     ]
    },
    {
     "data": {
      "application/vnd.jupyter.widget-view+json": {
       "model_id": "a43b5f12b7164e9cb41c0df9c7bea85b",
       "version_major": 2,
       "version_minor": 0
      },
      "text/plain": [
       "  0%|          | 0/1 [00:00<?, ?it/s]"
      ]
     },
     "metadata": {},
     "output_type": "display_data"
    },
    {
     "name": "stdout",
     "output_type": "stream",
     "text": [
      "{'eval_runtime': 1.2487, 'eval_samples_per_second': 6.407, 'eval_steps_per_second': 0.801, 'epoch': 3.0}\n",
      "{'train_runtime': 126.3546, 'train_samples_per_second': 1.52, 'train_steps_per_second': 0.19, 'train_loss': 11.56787109375, 'epoch': 3.0}\n"
     ]
    },
    {
     "data": {
      "application/vnd.jupyter.widget-view+json": {
       "model_id": "e0ffcfe47a664f9eb80558c0977c52d1",
       "version_major": 2,
       "version_minor": 0
      },
      "text/plain": [
       "  0%|          | 0/1 [00:00<?, ?it/s]"
      ]
     },
     "metadata": {},
     "output_type": "display_data"
    },
    {
     "name": "stdout",
     "output_type": "stream",
     "text": [
      "Validation results: {'eval_runtime': 1.2129, 'eval_samples_per_second': 6.596, 'eval_steps_per_second': 0.824, 'epoch': 3.0}\n"
     ]
    },
    {
     "data": {
      "application/vnd.jupyter.widget-view+json": {
       "model_id": "9168311e7abc4ed38266f2bf75e08530",
       "version_major": 2,
       "version_minor": 0
      },
      "text/plain": [
       "  0%|          | 0/1 [00:00<?, ?it/s]"
      ]
     },
     "metadata": {},
     "output_type": "display_data"
    },
    {
     "name": "stdout",
     "output_type": "stream",
     "text": [
      "Test results: {'eval_runtime': 1.2148, 'eval_samples_per_second': 6.586, 'eval_steps_per_second': 0.823, 'epoch': 3.0}\n"
     ]
    }
   ],
   "source": [
    "# Imports\n",
    "from time import time\n",
    "import numpy as np\n",
    "import evaluate\n",
    "from datasets import Dataset, DatasetDict, load_dataset\n",
    "from evaluate import load\n",
    "from peft import LoraConfig, PeftModel, get_peft_model\n",
    "from transformers import (\n",
    "    AutoModelForSeq2SeqLM,\n",
    "    DataCollatorForSeq2Seq,\n",
    "    AutoTokenizer,\n",
    "    M2M100Config,\n",
    "    M2M100ForConditionalGeneration,\n",
    "    M2M100Tokenizer,\n",
    "    Seq2SeqTrainingArguments,\n",
    "    Seq2SeqTrainer,\n",
    ")\n",
    "import torch\n",
    "\n",
    "# Data loading and splitting\n",
    "percent_data_select = \"train[:80]\"  # Load 80% of the dataset\n",
    "dataset = load_dataset(\"csv\", data_files={\"train\": \"../Datasets/processed_data.csv\"}, split=percent_data_select)\n",
    "\n",
    "# Split into train, validation, and test sets\n",
    "train_test_split = dataset.train_test_split(test_size=0.2, seed=42)\n",
    "validation_test_split = train_test_split[\"test\"].train_test_split(test_size=0.5, seed=42)\n",
    "\n",
    "raw_dataset = {\n",
    "    \"train\": train_test_split[\"train\"],\n",
    "    \"validation\": validation_test_split[\"train\"],\n",
    "    \"test\": validation_test_split[\"test\"]\n",
    "}\n",
    "\n",
    "dataset = DatasetDict(raw_dataset)\n",
    "print(dataset)\n",
    "\n",
    "# Model and tokenizer initialization\n",
    "model_ID = \"facebook/m2m100_418M\"\n",
    "model = AutoModelForSeq2SeqLM.from_pretrained(model_ID)\n",
    "tokenizer = AutoTokenizer.from_pretrained(model_ID, src_lang=\"en\", tgt_lang=\"hi\")\n",
    "\n",
    "# Text preprocessing\n",
    "def preprocess_function(examples):\n",
    "    inputs = [\"translate Hindi to English: \" + ex for ex in examples[\"Hindi\"]]\n",
    "    targets = examples[\"English\"]\n",
    "    model_inputs = tokenizer(inputs, max_length=128, truncation=True, padding=\"max_length\")\n",
    "    with tokenizer.as_target_tokenizer():\n",
    "        labels = tokenizer(targets, max_length=128, truncation=True, padding=\"max_length\")\n",
    "    model_inputs[\"labels\"] = labels[\"input_ids\"]\n",
    "    return model_inputs\n",
    "\n",
    "# Apply preprocessing\n",
    "tokenized_datasets = dataset.map(preprocess_function, batched=True)\n",
    "print(tokenized_datasets)\n",
    "\n",
    "# Data collator\n",
    "data_collator = DataCollatorForSeq2Seq(tokenizer=tokenizer, model=model_ID)\n",
    "\n",
    "# BLEU metric\n",
    "metric = evaluate.load(\"sacrebleu\")\n",
    "\n",
    "def postprocess_text(preds, labels):\n",
    "    preds = [pred.strip() for pred in preds]\n",
    "    labels = [[label.strip()] for label in labels]\n",
    "    return preds, labels\n",
    "\n",
    "def compute_metrics(eval_preds):\n",
    "    preds, labels = eval_preds\n",
    "    if isinstance(preds, tuple):\n",
    "        preds = preds[0]\n",
    "    decoded_preds = tokenizer.batch_decode(preds, skip_special_tokens=True)\n",
    "    labels = np.where(labels != -100, labels, tokenizer.pad_token_id)\n",
    "    decoded_labels = tokenizer.batch_decode(labels, skip_special_tokens=True)\n",
    "    decoded_preds, decoded_labels = postprocess_text(decoded_preds, decoded_labels)\n",
    "    result = metric.compute(predictions=decoded_preds, references=decoded_labels)\n",
    "    result = {\"bleu\": result[\"score\"]}\n",
    "    prediction_lens = [np.count_nonzero(pred != tokenizer.pad_token_id) for pred in preds]\n",
    "    result[\"gen_len\"] = np.mean(prediction_lens)\n",
    "    result = {k: round(v, 4) for k, v in result.items()}\n",
    "    return result\n",
    "\n",
    "# Fine-tuning configuration\n",
    "training_args = Seq2SeqTrainingArguments(\n",
    "    output_dir=\"./m2m100-finetuned\",\n",
    "    evaluation_strategy=\"epoch\",\n",
    "    learning_rate=2e-5,\n",
    "    per_device_train_batch_size=8,\n",
    "    per_device_eval_batch_size=8,\n",
    "    num_train_epochs=3,\n",
    "    weight_decay=0.01,\n",
    "    save_total_limit=2,\n",
    "    logging_dir=\"./logs\",\n",
    "    logging_steps=100,\n",
    ")\n",
    "\n",
    "# LoRA configuration\n",
    "lora_config = LoraConfig(\n",
    "    r=16,\n",
    "    lora_alpha=32,\n",
    "    target_modules=[\"q_proj\", \"v_proj\"],\n",
    "    lora_dropout=0.05,\n",
    "    bias=\"none\",\n",
    ")\n",
    "\n",
    "# Apply LoRA to the model\n",
    "model = get_peft_model(model, lora_config)\n",
    "model.print_trainable_parameters()\n",
    "\n",
    "# Initialize Trainer\n",
    "trainer = Seq2SeqTrainer(\n",
    "    model=model,\n",
    "    args=training_args,\n",
    "    train_dataset=tokenized_datasets[\"train\"],\n",
    "    eval_dataset=tokenized_datasets[\"validation\"],\n",
    "    data_collator=data_collator,\n",
    "    tokenizer=tokenizer,\n",
    "    compute_metrics=compute_metrics,\n",
    ")\n",
    "\n",
    "# Training the model\n",
    "trainer.train()\n",
    "\n",
    "# Evaluation\n",
    "eval_results = trainer.evaluate(tokenized_datasets[\"validation\"])\n",
    "print(f\"Validation results: {eval_results}\")\n",
    "\n",
    "test_results = trainer.evaluate(tokenized_datasets[\"test\"])\n",
    "print(f\"Test results: {test_results}\")"
   ]
  },
  {
   "cell_type": "code",
   "execution_count": null,
   "metadata": {},
   "outputs": [],
   "source": []
  },
  {
   "cell_type": "code",
   "execution_count": null,
   "metadata": {},
   "outputs": [],
   "source": []
  },
  {
   "cell_type": "code",
   "execution_count": 22,
   "metadata": {},
   "outputs": [],
   "source": [
    "\n"
   ]
  },
  {
   "cell_type": "code",
   "execution_count": null,
   "metadata": {},
   "outputs": [],
   "source": []
  },
  {
   "cell_type": "code",
   "execution_count": 59,
   "metadata": {},
   "outputs": [
    {
     "name": "stdout",
     "output_type": "stream",
     "text": [
      "Using MODEL_PATH: e:\\Hipster-Inc\\ML\\Model\\LoRa\\M2M100\n"
     ]
    }
   ],
   "source": [
    "import os\n",
    "\n",
    "MODEL_PATH = os.path.abspath(\"../Model/LoRa/M2M100/\")\n",
    "print(f\"Using MODEL_PATH: {MODEL_PATH}\")\n"
   ]
  }
 ],
 "metadata": {
  "kernelspec": {
   "display_name": "WPanda",
   "language": "python",
   "name": "python3"
  },
  "language_info": {
   "codemirror_mode": {
    "name": "ipython",
    "version": 3
   },
   "file_extension": ".py",
   "mimetype": "text/x-python",
   "name": "python",
   "nbconvert_exporter": "python",
   "pygments_lexer": "ipython3",
   "version": "3.12.8"
  }
 },
 "nbformat": 4,
 "nbformat_minor": 2
}
